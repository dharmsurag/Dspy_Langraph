{
 "cells": [
  {
   "cell_type": "markdown",
   "id": "9ada0e90",
   "metadata": {},
   "source": [
    "# Module Optimisation"
   ]
  },
  {
   "cell_type": "code",
   "execution_count": 1,
   "id": "ce5dc554",
   "metadata": {},
   "outputs": [],
   "source": [
    "import dspy\n",
    "from dspy.teleprompt import BootstrapFewShotWithRandomSearch\n",
    "import os\n",
    "from getpass import getpass\n",
    "\n",
    "# Configure the language model\n",
    "#if \"OPENAI_API_KEY\" not in os.environ:\n",
    "#    os.environ[\"OPENAI_API_KEY\"] = getpass(\"Enter OpenAI API key: \")\n",
    "#lm = dspy.OpenAI(model='gpt-3.5-turbo', max_tokens=4096)\n",
    "lm = dspy.LM(\"groq/meta-llama/llama-4-scout-17b-16e-instruct\", api_key=\"os.environ/GROQ_API_KEY\")\n",
    "dspy.configure(lm=lm)\n",
    "\n",
    "# Alternative: Use a local model like Ollama\n",
    "# lm = dspy.OllamaLocal(model='llama3.2', max_tokens=4096)\n",
    "# dspy.settings.configure(lm=lm)"
   ]
  },
  {
   "cell_type": "code",
   "execution_count": 2,
   "id": "a34b00aa",
   "metadata": {},
   "outputs": [],
   "source": [
    "# Synthetic dataset for financial news sentiment analysis\n",
    "trainset = [\n",
    "    dspy.Example(\n",
    "        headline=\"TechCorp reports record-breaking quarterly earnings, exceeding analyst expectations.\",\n",
    "        answer=\"Up\"\n",
    "    ).with_inputs(\"headline\"),\n",
    "    dspy.Example(\n",
    "        headline=\"TechCorp faces regulatory fines due to compliance issues in overseas markets.\",\n",
    "        answer=\"Down\"\n",
    "    ).with_inputs(\"headline\"),\n",
    "    dspy.Example(\n",
    "        headline=\"TechCorp announces new product launch, expected to capture significant market share.\",\n",
    "        answer=\"Up\"\n",
    "    ).with_inputs(\"headline\"),\n",
    "    dspy.Example(\n",
    "        headline=\"TechCorp's CEO resigns amid internal restructuring, no clear successor named.\",\n",
    "        answer=\"Down\"\n",
    "    ).with_inputs(\"headline\"),\n",
    "    dspy.Example(\n",
    "        headline=\"TechCorp stock trading volume steady, no major news reported this week.\",\n",
    "        answer=\"Neutral\"\n",
    "    ).with_inputs(\"headline\"),\n",
    "]\n",
    "\n",
    "devset = [\n",
    "    dspy.Example(\n",
    "        headline=\"TechCorp secures major government contract for AI solutions.\",\n",
    "        answer=\"Up\"\n",
    "    ).with_inputs(\"headline\"),\n",
    "    dspy.Example(\n",
    "        headline=\"TechCorp reports supply chain disruptions impacting production.\",\n",
    "        answer=\"Down\"\n",
    "    ).with_inputs(\"headline\"),\n",
    "    dspy.Example(\n",
    "        headline=\"TechCorp maintains stable dividend payouts with no changes announced.\",\n",
    "        answer=\"Neutral\"\n",
    "    ).with_inputs(\"headline\"),\n",
    "]"
   ]
  },
  {
   "cell_type": "code",
   "execution_count": 3,
   "id": "40613544",
   "metadata": {},
   "outputs": [
    {
     "name": "stdout",
     "output_type": "stream",
     "text": [
      "Going to sample between 1 and 4 traces per predictor.\n",
      "Will attempt to bootstrap 8 candidate sets.\n",
      "Average Metric: 3.00 / 3 (100.0%): 100%|██████████| 3/3 [00:00<00:00,  3.18it/s]"
     ]
    },
    {
     "name": "stderr",
     "output_type": "stream",
     "text": [
      "2025/07/19 04:16:43 INFO dspy.evaluate.evaluate: Average Metric: 3 / 3 (100.0%)\n"
     ]
    },
    {
     "name": "stdout",
     "output_type": "stream",
     "text": [
      "\n",
      "New best score: 100.0 for seed -3\n",
      "Scores so far: [100.0]\n",
      "Best score so far: 100.0\n",
      "Average Metric: 3.00 / 3 (100.0%): 100%|██████████| 3/3 [00:00<00:00,  6.26it/s]"
     ]
    },
    {
     "name": "stderr",
     "output_type": "stream",
     "text": [
      "2025/07/19 04:16:44 INFO dspy.evaluate.evaluate: Average Metric: 3 / 3 (100.0%)\n"
     ]
    },
    {
     "name": "stdout",
     "output_type": "stream",
     "text": [
      "\n",
      "Scores so far: [100.0, 100.0]\n",
      "Best score so far: 100.0\n"
     ]
    },
    {
     "name": "stderr",
     "output_type": "stream",
     "text": [
      "  0%|          | 0/5 [00:00<?, ?it/s]d:\\DS_Work\\Dspy_Langraph\\dspyenv\\Lib\\site-packages\\tqdm\\auto.py:21: TqdmWarning: IProgress not found. Please update jupyter and ipywidgets. See https://ipywidgets.readthedocs.io/en/stable/user_install.html\n",
      "  from .autonotebook import tqdm as notebook_tqdm\n",
      " 80%|████████  | 4/5 [00:06<00:01,  1.63s/it]\n"
     ]
    },
    {
     "name": "stdout",
     "output_type": "stream",
     "text": [
      "Bootstrapped 4 full traces after 4 examples for up to 1 rounds, amounting to 4 attempts.\n",
      "Average Metric: 3.00 / 3 (100.0%): 100%|██████████| 3/3 [00:00<00:00,  5.53it/s]"
     ]
    },
    {
     "name": "stderr",
     "output_type": "stream",
     "text": [
      "2025/07/19 04:16:51 INFO dspy.evaluate.evaluate: Average Metric: 3 / 3 (100.0%)\n"
     ]
    },
    {
     "name": "stdout",
     "output_type": "stream",
     "text": [
      "\n",
      "Scores so far: [100.0, 100.0, 100.0]\n",
      "Best score so far: 100.0\n"
     ]
    },
    {
     "name": "stderr",
     "output_type": "stream",
     "text": [
      " 80%|████████  | 4/5 [00:01<00:00,  3.54it/s]\n"
     ]
    },
    {
     "name": "stdout",
     "output_type": "stream",
     "text": [
      "Bootstrapped 4 full traces after 4 examples for up to 1 rounds, amounting to 4 attempts.\n",
      "Average Metric: 3.00 / 3 (100.0%): 100%|██████████| 3/3 [00:00<00:00,  6.82it/s]"
     ]
    },
    {
     "name": "stderr",
     "output_type": "stream",
     "text": [
      "2025/07/19 04:16:52 INFO dspy.evaluate.evaluate: Average Metric: 3 / 3 (100.0%)\n"
     ]
    },
    {
     "name": "stdout",
     "output_type": "stream",
     "text": [
      "\n",
      "Scores so far: [100.0, 100.0, 100.0, 100.0]\n",
      "Best score so far: 100.0\n"
     ]
    },
    {
     "name": "stderr",
     "output_type": "stream",
     "text": [
      " 40%|████      | 2/5 [00:00<00:00,  3.23it/s]\n"
     ]
    },
    {
     "name": "stdout",
     "output_type": "stream",
     "text": [
      "Bootstrapped 2 full traces after 2 examples for up to 1 rounds, amounting to 2 attempts.\n",
      "Average Metric: 3.00 / 3 (100.0%): 100%|██████████| 3/3 [00:00<00:00,  5.91it/s]"
     ]
    },
    {
     "name": "stderr",
     "output_type": "stream",
     "text": [
      "2025/07/19 04:16:53 INFO dspy.evaluate.evaluate: Average Metric: 3 / 3 (100.0%)\n"
     ]
    },
    {
     "name": "stdout",
     "output_type": "stream",
     "text": [
      "\n",
      "Scores so far: [100.0, 100.0, 100.0, 100.0, 100.0]\n",
      "Best score so far: 100.0\n"
     ]
    },
    {
     "name": "stderr",
     "output_type": "stream",
     "text": [
      " 20%|██        | 1/5 [00:00<00:01,  3.57it/s]\n"
     ]
    },
    {
     "name": "stdout",
     "output_type": "stream",
     "text": [
      "Bootstrapped 1 full traces after 1 examples for up to 1 rounds, amounting to 1 attempts.\n",
      "Average Metric: 3.00 / 3 (100.0%): 100%|██████████| 3/3 [00:00<00:00,  8.30it/s]"
     ]
    },
    {
     "name": "stderr",
     "output_type": "stream",
     "text": [
      "2025/07/19 04:16:54 INFO dspy.evaluate.evaluate: Average Metric: 3 / 3 (100.0%)\n"
     ]
    },
    {
     "name": "stdout",
     "output_type": "stream",
     "text": [
      "\n",
      "Scores so far: [100.0, 100.0, 100.0, 100.0, 100.0, 100.0]\n",
      "Best score so far: 100.0\n"
     ]
    },
    {
     "name": "stderr",
     "output_type": "stream",
     "text": [
      " 40%|████      | 2/5 [00:00<00:00,  3.71it/s]\n"
     ]
    },
    {
     "name": "stdout",
     "output_type": "stream",
     "text": [
      "Bootstrapped 2 full traces after 2 examples for up to 1 rounds, amounting to 2 attempts.\n",
      "Average Metric: 1.00 / 1 (100.0%):  33%|███▎      | 1/3 [00:00<00:00,  2.81it/s]"
     ]
    },
    {
     "name": "stderr",
     "output_type": "stream",
     "text": [
      "2025/07/19 04:16:58 WARNING dspy.adapters.json_adapter: Failed to use structured output format, falling back to JSON mode.\n"
     ]
    },
    {
     "name": "stdout",
     "output_type": "stream",
     "text": [
      "Average Metric: 3.00 / 3 (100.0%): 100%|██████████| 3/3 [00:07<00:00,  2.34s/it]"
     ]
    },
    {
     "name": "stderr",
     "output_type": "stream",
     "text": [
      "2025/07/19 04:17:02 INFO dspy.evaluate.evaluate: Average Metric: 3 / 3 (100.0%)\n"
     ]
    },
    {
     "name": "stdout",
     "output_type": "stream",
     "text": [
      "\n",
      "Scores so far: [100.0, 100.0, 100.0, 100.0, 100.0, 100.0, 100.0]\n",
      "Best score so far: 100.0\n"
     ]
    },
    {
     "name": "stderr",
     "output_type": "stream",
     "text": [
      " 40%|████      | 2/5 [00:07<00:10,  3.51s/it]\n"
     ]
    },
    {
     "name": "stdout",
     "output_type": "stream",
     "text": [
      "Bootstrapped 2 full traces after 2 examples for up to 1 rounds, amounting to 2 attempts.\n",
      "  0%|          | 0/3 [00:00<?, ?it/s]"
     ]
    },
    {
     "name": "stderr",
     "output_type": "stream",
     "text": [
      "2025/07/19 04:17:12 WARNING dspy.adapters.json_adapter: Failed to use structured output format, falling back to JSON mode.\n",
      "2025/07/19 04:17:12 WARNING dspy.adapters.json_adapter: Failed to use structured output format, falling back to JSON mode.\n"
     ]
    },
    {
     "name": "stdout",
     "output_type": "stream",
     "text": [
      "Average Metric: 1.00 / 1 (100.0%):  33%|███▎      | 1/3 [00:03<00:07,  3.74s/it]"
     ]
    },
    {
     "name": "stderr",
     "output_type": "stream",
     "text": [
      "2025/07/19 04:17:15 ERROR dspy.utils.parallelizer: Error for Example({'headline': 'TechCorp secures major government contract for AI solutions.', 'answer': 'Up'}) (input_keys={'headline'}): Both structured output format and JSON mode failed. Please choose a model that supports `response_format` argument. Original error: litellm.RateLimitError: RateLimitError: GroqException - {\"error\":{\"message\":\"Rate limit reached for model `meta-llama/llama-4-scout-17b-16e-instruct` in organization `org_01jynyvq87f3may0sgyx33aha2` service tier `on_demand` on requests per minute (RPM): Limit 30, Used 30, Requested 1. Please try again in 1.979s. Need more tokens? Upgrade to Dev Tier today at https://console.groq.com/settings/billing\",\"type\":\"requests\",\"code\":\"rate_limit_exceeded\"}}\n",
      ". Set `provide_traceback=True` for traceback.\n"
     ]
    },
    {
     "name": "stdout",
     "output_type": "stream",
     "text": [
      "Average Metric: 2.00 / 2 (100.0%): 100%|██████████| 3/3 [00:06<00:00,  2.31s/it]"
     ]
    },
    {
     "name": "stderr",
     "output_type": "stream",
     "text": [
      "2025/07/19 04:17:16 INFO dspy.evaluate.evaluate: Average Metric: 2.0 / 3 (66.7%)\n"
     ]
    },
    {
     "name": "stdout",
     "output_type": "stream",
     "text": [
      "\n",
      "Scores so far: [100.0, 100.0, 100.0, 100.0, 100.0, 100.0, 100.0, 66.67]\n",
      "Best score so far: 100.0\n"
     ]
    },
    {
     "name": "stderr",
     "output_type": "stream",
     "text": [
      " 60%|██████    | 3/5 [00:10<00:06,  3.49s/it]\n"
     ]
    },
    {
     "name": "stdout",
     "output_type": "stream",
     "text": [
      "Bootstrapped 3 full traces after 3 examples for up to 1 rounds, amounting to 3 attempts.\n",
      "  0%|          | 0/3 [00:00<?, ?it/s]"
     ]
    },
    {
     "name": "stderr",
     "output_type": "stream",
     "text": [
      "2025/07/19 04:17:29 WARNING dspy.adapters.json_adapter: Failed to use structured output format, falling back to JSON mode.\n",
      "2025/07/19 04:17:29 WARNING dspy.adapters.json_adapter: Failed to use structured output format, falling back to JSON mode.\n"
     ]
    },
    {
     "name": "stdout",
     "output_type": "stream",
     "text": [
      "Average Metric: 1.00 / 1 (100.0%):  33%|███▎      | 1/3 [00:03<00:07,  3.58s/it]"
     ]
    },
    {
     "name": "stderr",
     "output_type": "stream",
     "text": [
      "2025/07/19 04:17:33 ERROR dspy.utils.parallelizer: Error for Example({'headline': 'TechCorp maintains stable dividend payouts with no changes announced.', 'answer': 'Neutral'}) (input_keys={'headline'}): Both structured output format and JSON mode failed. Please choose a model that supports `response_format` argument. Original error: litellm.RateLimitError: RateLimitError: GroqException - {\"error\":{\"message\":\"Rate limit reached for model `meta-llama/llama-4-scout-17b-16e-instruct` in organization `org_01jynyvq87f3may0sgyx33aha2` service tier `on_demand` on requests per minute (RPM): Limit 30, Used 30, Requested 1. Please try again in 1.981s. Need more tokens? Upgrade to Dev Tier today at https://console.groq.com/settings/billing\",\"type\":\"requests\",\"code\":\"rate_limit_exceeded\"}}\n",
      ". Set `provide_traceback=True` for traceback.\n"
     ]
    },
    {
     "name": "stdout",
     "output_type": "stream",
     "text": [
      "Average Metric: 2.00 / 2 (100.0%): 100%|██████████| 3/3 [00:06<00:00,  2.30s/it]"
     ]
    },
    {
     "name": "stderr",
     "output_type": "stream",
     "text": [
      "2025/07/19 04:17:33 INFO dspy.evaluate.evaluate: Average Metric: 2.0 / 3 (66.7%)\n"
     ]
    },
    {
     "name": "stdout",
     "output_type": "stream",
     "text": [
      "\n",
      "Scores so far: [100.0, 100.0, 100.0, 100.0, 100.0, 100.0, 100.0, 66.67, 66.67]\n",
      "Best score so far: 100.0\n"
     ]
    },
    {
     "name": "stderr",
     "output_type": "stream",
     "text": [
      " 20%|██        | 1/5 [00:03<00:14,  3.59s/it]\n"
     ]
    },
    {
     "name": "stdout",
     "output_type": "stream",
     "text": [
      "Bootstrapped 1 full traces after 1 examples for up to 1 rounds, amounting to 1 attempts.\n",
      "  0%|          | 0/3 [00:00<?, ?it/s]"
     ]
    },
    {
     "name": "stderr",
     "output_type": "stream",
     "text": [
      "2025/07/19 04:17:40 WARNING dspy.adapters.json_adapter: Failed to use structured output format, falling back to JSON mode.\n",
      "2025/07/19 04:17:40 WARNING dspy.adapters.json_adapter: Failed to use structured output format, falling back to JSON mode.\n"
     ]
    },
    {
     "name": "stdout",
     "output_type": "stream",
     "text": [
      "Average Metric: 1.00 / 1 (100.0%):  33%|███▎      | 1/3 [00:03<00:07,  3.58s/it]"
     ]
    },
    {
     "name": "stderr",
     "output_type": "stream",
     "text": [
      "2025/07/19 04:17:43 ERROR dspy.utils.parallelizer: Error for Example({'headline': 'TechCorp secures major government contract for AI solutions.', 'answer': 'Up'}) (input_keys={'headline'}): Both structured output format and JSON mode failed. Please choose a model that supports `response_format` argument. Original error: litellm.RateLimitError: RateLimitError: GroqException - {\"error\":{\"message\":\"Rate limit reached for model `meta-llama/llama-4-scout-17b-16e-instruct` in organization `org_01jynyvq87f3may0sgyx33aha2` service tier `on_demand` on requests per minute (RPM): Limit 30, Used 30, Requested 1. Please try again in 1.925s. Need more tokens? Upgrade to Dev Tier today at https://console.groq.com/settings/billing\",\"type\":\"requests\",\"code\":\"rate_limit_exceeded\"}}\n",
      ". Set `provide_traceback=True` for traceback.\n"
     ]
    },
    {
     "name": "stdout",
     "output_type": "stream",
     "text": [
      "Average Metric: 2.00 / 2 (100.0%): 100%|██████████| 3/3 [00:06<00:00,  2.28s/it]"
     ]
    },
    {
     "name": "stderr",
     "output_type": "stream",
     "text": [
      "2025/07/19 04:17:43 INFO dspy.evaluate.evaluate: Average Metric: 2.0 / 3 (66.7%)\n"
     ]
    },
    {
     "name": "stdout",
     "output_type": "stream",
     "text": [
      "\n",
      "Scores so far: [100.0, 100.0, 100.0, 100.0, 100.0, 100.0, 100.0, 66.67, 66.67, 66.67]\n",
      "Best score so far: 100.0\n"
     ]
    },
    {
     "name": "stderr",
     "output_type": "stream",
     "text": [
      " 60%|██████    | 3/5 [00:10<00:06,  3.48s/it]\n"
     ]
    },
    {
     "name": "stdout",
     "output_type": "stream",
     "text": [
      "Bootstrapped 3 full traces after 3 examples for up to 1 rounds, amounting to 3 attempts.\n",
      "  0%|          | 0/3 [00:00<?, ?it/s]"
     ]
    },
    {
     "name": "stderr",
     "output_type": "stream",
     "text": [
      "2025/07/19 04:17:57 WARNING dspy.adapters.json_adapter: Failed to use structured output format, falling back to JSON mode.\n",
      "2025/07/19 04:17:57 WARNING dspy.adapters.json_adapter: Failed to use structured output format, falling back to JSON mode.\n"
     ]
    },
    {
     "name": "stdout",
     "output_type": "stream",
     "text": [
      "Average Metric: 1.00 / 1 (100.0%):  33%|███▎      | 1/3 [00:03<00:07,  3.55s/it]"
     ]
    },
    {
     "name": "stderr",
     "output_type": "stream",
     "text": [
      "2025/07/19 04:18:01 ERROR dspy.utils.parallelizer: Error for Example({'headline': 'TechCorp secures major government contract for AI solutions.', 'answer': 'Up'}) (input_keys={'headline'}): Both structured output format and JSON mode failed. Please choose a model that supports `response_format` argument. Original error: litellm.RateLimitError: RateLimitError: GroqException - {\"error\":{\"message\":\"Rate limit reached for model `meta-llama/llama-4-scout-17b-16e-instruct` in organization `org_01jynyvq87f3may0sgyx33aha2` service tier `on_demand` on requests per minute (RPM): Limit 30, Used 30, Requested 1. Please try again in 1.977s. Need more tokens? Upgrade to Dev Tier today at https://console.groq.com/settings/billing\",\"type\":\"requests\",\"code\":\"rate_limit_exceeded\"}}\n",
      ". Set `provide_traceback=True` for traceback.\n"
     ]
    },
    {
     "name": "stdout",
     "output_type": "stream",
     "text": [
      "Average Metric: 2.00 / 2 (100.0%): 100%|██████████| 3/3 [00:07<00:00,  2.40s/it]"
     ]
    },
    {
     "name": "stderr",
     "output_type": "stream",
     "text": [
      "2025/07/19 04:18:01 INFO dspy.evaluate.evaluate: Average Metric: 2.0 / 3 (66.7%)\n"
     ]
    },
    {
     "name": "stdout",
     "output_type": "stream",
     "text": [
      "\n",
      "Scores so far: [100.0, 100.0, 100.0, 100.0, 100.0, 100.0, 100.0, 66.67, 66.67, 66.67, 66.67]\n",
      "Best score so far: 100.0\n",
      "11 candidate programs found.\n"
     ]
    }
   ],
   "source": [
    "# Define the DSPy signature for stock price movement prediction\n",
    "class StockPricePrediction(dspy.Signature):\n",
    "    \"\"\"Predict whether a stock's price will go up, down, or remain neutral based on a news headline.\"\"\"\n",
    "    headline = dspy.InputField(desc=\"A financial news headline about a company.\")\n",
    "    answer = dspy.OutputField(desc=\"Predicted stock price movement: Up, Down, or Neutral.\")\n",
    "\n",
    "# Define the DSPy module with Chain of Thought\n",
    "class StockPriceCoT(dspy.Module):\n",
    "    def __init__(self):\n",
    "        super().__init__()\n",
    "        self.prog = dspy.ChainOfThought(StockPricePrediction)\n",
    "\n",
    "    def forward(self, headline):\n",
    "        return self.prog(headline=headline)\n",
    "\n",
    "# Define a simple evaluation metric\n",
    "def stock_prediction_metric(example, pred, trace=None):\n",
    "    return example.answer.lower() == pred.answer.lower()\n",
    "\n",
    "# Initialize and compile the module with BootstrapFewShotWithRandomSearch\n",
    "config = dict(\n",
    "    max_bootstrapped_demos=4,\n",
    "    max_labeled_demos=4,\n",
    "    num_candidate_programs=8,\n",
    "    num_threads=4\n",
    ")\n",
    "optimizer = BootstrapFewShotWithRandomSearch(metric=stock_prediction_metric, **config)\n",
    "compiled_cot = optimizer.compile(StockPriceCoT(), trainset=trainset, valset=devset)\n",
    "\n",
    "# Save the optimized module\n",
    "compiled_cot.save('stock_price_cot.json')"
   ]
  },
  {
   "cell_type": "code",
   "execution_count": 4,
   "id": "86b9d04c",
   "metadata": {},
   "outputs": [
    {
     "name": "stdout",
     "output_type": "stream",
     "text": [
      "Headline: TechCorp announces breakthrough in renewable energy technology.\n",
      "Predicted stock price movement: Up\n",
      "Accuracy on devset: 100.00%\n"
     ]
    }
   ],
   "source": [
    "# Example usage: Predict stock price movement for a new headline\n",
    "new_headline = \"TechCorp announces breakthrough in renewable energy technology.\"\n",
    "prediction = compiled_cot(headline=new_headline)\n",
    "print(f\"Headline: {new_headline}\")\n",
    "print(f\"Predicted stock price movement: {prediction.answer}\")\n",
    "\n",
    "# Evaluate on devset\n",
    "correct = 0\n",
    "for example in devset:\n",
    "    pred = compiled_cot(headline=example.headline)\n",
    "    if stock_prediction_metric(example, pred):\n",
    "        correct += 1\n",
    "accuracy = correct / len(devset)\n",
    "print(f\"Accuracy on devset: {accuracy:.2%}\")"
   ]
  },
  {
   "cell_type": "markdown",
   "id": "8601d948",
   "metadata": {},
   "source": [
    "# Prompt Optimisation"
   ]
  },
  {
   "cell_type": "code",
   "execution_count": 5,
   "id": "d4ab91cd",
   "metadata": {},
   "outputs": [],
   "source": [
    "import dspy\n",
    "from dspy.teleprompt import MIPROv2\n",
    "from dspy.evaluate import Evaluate\n",
    "import os\n",
    "from getpass import getpass\n",
    "\n",
    "# Configure the language model (example uses OpenAI; adjust for your setup)\n",
    "#if \"OPENAI_API_KEY\" not in os.environ:\n",
    "#    os.environ[\"OPENAI_API_KEY\"] = getpass(\"Enter OpenAI API key: \")\n",
    "#lm = dspy.OpenAI(model='gpt-3.5-turbo', max_tokens=4096)\n",
    "#dspy.settings.configure(lm=lm)\n",
    "\n",
    "# Alternative: Use a local model like Ollama\n",
    "# lm = dspy.OllamaLocal(model='llama3.2', max_tokens=4096)\n",
    "# dspy.settings.configure(lm=lm)"
   ]
  },
  {
   "cell_type": "code",
   "execution_count": 6,
   "id": "2fc461b1",
   "metadata": {},
   "outputs": [],
   "source": [
    "# Synthetic dataset for portfolio optimization\n",
    "trainset = [\n",
    "    dspy.Example(\n",
    "        headline=\"TechCorp Q2 earnings soar 25%, beating estimates; AI division grows 40%.\",\n",
    "        fundamentals=\"P/E: 22, Rev Growth: 15%\",\n",
    "        market_conditions=\"VIX: 18 (moderate)\",\n",
    "        answer=\"Buy\",\n",
    "        rationale=\"Positive earnings and strong AI growth outweigh moderate market volatility.\"\n",
    "    ).with_inputs(\"headline\", \"fundamentals\", \"market_conditions\"),\n",
    "    dspy.Example(\n",
    "        headline=\"PharmaCo faces patent expiration; new drug trials delayed.\",\n",
    "        fundamentals=\"P/E: 30, Rev Growth: -5%\",\n",
    "        market_conditions=\"VIX: 25 (high)\",\n",
    "        answer=\"Sell\",\n",
    "        rationale=\"Patent issues and negative growth combined with high volatility suggest risk.\"\n",
    "    ).with_inputs(\"headline\", \"fundamentals\", \"market_conditions\"),\n",
    "    dspy.Example(\n",
    "        headline=\"EnergyCo secures $1B renewable contract; stock steady.\",\n",
    "        fundamentals=\"P/E: 18, Rev Growth: 10%\",\n",
    "        market_conditions=\"VIX: 15 (low)\",\n",
    "        answer=\"Buy\",\n",
    "        rationale=\"Contract win and solid fundamentals in stable market favor upside.\"\n",
    "    ).with_inputs(\"headline\", \"fundamentals\", \"market_conditions\"),\n",
    "    dspy.Example(\n",
    "        headline=\"RetailCo reports flat sales amid consumer slowdown.\",\n",
    "        fundamentals=\"P/E: 20, Rev Growth: 0%\",\n",
    "        market_conditions=\"VIX: 20 (moderate)\",\n",
    "        answer=\"Hold\",\n",
    "        rationale=\"Flat performance and moderate market conditions suggest no immediate action.\"\n",
    "    ).with_inputs(\"headline\", \"fundamentals\", \"market_conditions\"),\n",
    "    dspy.Example(\n",
    "        headline=\"AutoCo launches EV model, but supply chain issues persist.\",\n",
    "        fundamentals=\"P/E: 25, Rev Growth: 8%\",\n",
    "        market_conditions=\"VIX: 22 (moderate)\",\n",
    "        answer=\"Hold\",\n",
    "        rationale=\"EV launch is positive, but supply chain risks and moderate volatility balance out.\"\n",
    "    ).with_inputs(\"headline\", \"fundamentals\", \"market_conditions\"),\n",
    "    dspy.Example(\n",
    "        headline=\"BankCo increases dividends after strong loan growth.\",\n",
    "        fundamentals=\"P/E: 15, Rev Growth: 12%\",\n",
    "        market_conditions=\"VIX: 16 (low)\",\n",
    "        answer=\"Buy\",\n",
    "        rationale=\"Strong fundamentals and low volatility support a positive outlook.\"\n",
    "    ).with_inputs(\"headline\", \"fundamentals\", \"market_conditions\"),\n",
    "    dspy.Example(\n",
    "        headline=\"TechCorp rival gains market share with new AI product.\",\n",
    "        fundamentals=\"P/E: 28, Rev Growth: 5%\",\n",
    "        market_conditions=\"VIX: 20 (moderate)\",\n",
    "        answer=\"Sell\",\n",
    "        rationale=\"Competitive pressure and modest growth in volatile market suggest downside.\"\n",
    "    ).with_inputs(\"headline\", \"fundamentals\", \"market_conditions\"),\n",
    "    dspy.Example(\n",
    "        headline=\"PharmaCo secures FDA approval for new drug.\",\n",
    "        fundamentals=\"P/E: 22, Rev Growth: 10%\",\n",
    "        market_conditions=\"VIX: Institutions 17 (low)\",\n",
    "        answer=\"Buy\",\n",
    "        rationale=\"FDA approval boosts growth potential in a stable market.\"\n",
    "    ).with_inputs(\"headline\", \"fundamentals\", \"market_conditions\"),\n",
    "    dspy.Example(\n",
    "        headline=\"EnergyCo faces regulatory probe over emissions.\",\n",
    "        fundamentals=\"P/E: 20, Rev Growth: -2%\",\n",
    "        market_conditions=\"VIX: 24 (high)\",\n",
    "        answer=\"Sell\",\n",
    "        rationale=\"Regulatory risks and negative growth in volatile market are concerning.\"\n",
    "    ).with_inputs(\"headline\", \"fundamentals\", \"market_conditions\"),\n",
    "    dspy.Example(\n",
    "        headline=\"RetailCo expands e-commerce platform successfully.\",\n",
    "        fundamentals=\"P/E: 18, Rev Growth: 12%\",\n",
    "        market_conditions=\"VIX: 19 (moderate)\",\n",
    "        answer=\"Buy\",\n",
    "        rationale=\"E-commerce growth and solid fundamentals outweigh moderate volatility.\"\n",
    "    ).with_inputs(\"headline\", \"fundamentals\", \"market_conditions\"),\n",
    "    dspy.Example(\n",
    "        headline=\"AutoCo reports strong quarterly sales despite chip shortage.\",\n",
    "        fundamentals=\"P/E: 20, Rev Growth: 10%\",\n",
    "        market_conditions=\"VIX: 21 (moderate)\",\n",
    "        answer=\"Buy\",\n",
    "        rationale=\"Strong sales performance mitigates supply chain concerns.\"\n",
    "    ).with_inputs(\"headline\", \"fundamentals\", \"market_conditions\"),\n",
    "    dspy.Example(\n",
    "        headline=\"BankCo faces cybersecurity breach, stock dips.\",\n",
    "        fundamentals=\"P/E: 22, Rev Growth: 5%\",\n",
    "        market_conditions=\"VIX: 23 (high)\",\n",
    "        answer=\"Sell\",\n",
    "        rationale=\"Cybersecurity issues and high volatility pose significant risks.\"\n",
    "    ).with_inputs(\"headline\", \"fundamentals\", \"market_conditions\"),\n",
    "    dspy.Example(\n",
    "        headline=\"TechCorp announces share buyback program.\",\n",
    "        fundamentals=\"P/E: 24, Rev Growth: 8%\",\n",
    "        market_conditions=\"VIX: 16 (low)\",\n",
    "        answer=\"Buy\",\n",
    "        rationale=\"Buyback signals confidence; strong fundamentals in stable market.\"\n",
    "    ).with_inputs(\"headline\", \"fundamentals\", \"market_conditions\"),\n",
    "    dspy.Example(\n",
    "        headline=\"PharmaCo reports mixed trial results for new vaccine.\",\n",
    "        fundamentals=\"P/E: 25, Rev Growth: 3%\",\n",
    "        market_conditions=\"VIX: 20 (moderate)\",\n",
    "        answer=\"Hold\",\n",
    "        rationale=\"Mixed results balance growth potential and market uncertainty.\"\n",
    "    ).with_inputs(\"headline\", \"fundamentals\", \"market_conditions\"),\n",
    "    dspy.Example(\n",
    "        headline=\"EnergyCo divests non-core assets to focus on renewables.\",\n",
    "        fundamentals=\"P/E: 19, Rev Growth: 7%\",\n",
    "        market_conditions=\"VIX: 18 (moderate)\",\n",
    "        answer=\"Buy\",\n",
    "        rationale=\"Strategic focus on renewables is positive in stable market.\"\n",
    "    ).with_inputs(\"headline\", \"fundamentals\", \"market_conditions\"),\n",
    "    dspy.Example(\n",
    "        headline=\"RetailCo faces labor strikes, impacting operations.\",\n",
    "        fundamentals=\"P/E: 23, Rev Growth: -3%\",\n",
    "        market_conditions=\"VIX: 22 (moderate)\",\n",
    "        answer=\"Sell\",\n",
    "        rationale=\"Operational disruptions and negative growth suggest caution.\"\n",
    "    ).with_inputs(\"headline\", \"fundamentals\", \"market_conditions\"),\n",
    "    dspy.Example(\n",
    "        headline=\"AutoCo secures government EV subsidies.\",\n",
    "        fundamentals=\"P/E: 21, Rev Growth: 9%\",\n",
    "        market_conditions=\"VIX: 17 (low)\",\n",
    "        answer=\"Buy\",\n",
    "        rationale=\"Subsidies enhance growth in a stable market.\"\n",
    "    ).with_inputs(\"headline\", \"fundamentals\", \"market_conditions\"),\n",
    "    dspy.Example(\n",
    "        headline=\"BankCo reports stable earnings, no major changes.\",\n",
    "        fundamentals=\"P/E: 20, Rev Growth: 4%\",\n",
    "        market_conditions=\"VIX: 19 (moderate)\",\n",
    "        answer=\"Hold\",\n",
    "        rationale=\"Stable performance but no strong catalyst for action.\"\n",
    "    ).with_inputs(\"headline\", \"fundamentals\", \"market_conditions\"),\n",
    "    dspy.Example(\n",
    "        headline=\"TechCorp hit by global chip shortage, production slows.\",\n",
    "        fundamentals=\"P/E: 27, Rev Growth: 2%\",\n",
    "        market_conditions=\"VIX: 23 (high)\",\n",
    "        answer=\"Sell\",\n",
    "        rationale=\"Supply chain issues and high volatility outweigh modest growth.\"\n",
    "    ).with_inputs(\"headline\", \"fundamentals\", \"market_conditions\"),\n",
    "    dspy.Example(\n",
    "        headline=\"PharmaCo partners with global health organization.\",\n",
    "        fundamentals=\"P/E: 21, Rev Growth: 11%\",\n",
    "        market_conditions=\"VIX: 16 (low)\",\n",
    "        answer=\"Buy\",\n",
    "        rationale=\"Partnership boosts growth potential in stable market.\"\n",
    "    ).with_inputs(\"headline\", \"fundamentals\", \"market_conditions\"),\n",
    "]\n",
    "\n",
    "devset = [\n",
    "    dspy.Example(\n",
    "        headline=\"TechCorp unveils new AI chip, analysts optimistic.\",\n",
    "        fundamentals=\"P/E: 23, Rev Growth: 14%\",\n",
    "        market_conditions=\"VIX: 17 (low)\",\n",
    "        answer=\"Buy\",\n",
    "        rationale=\"Innovative product and strong fundamentals in stable market.\"\n",
    "    ).with_inputs(\"headline\", \"fundamentals\", \"market_conditions\"),\n",
    "    dspy.Example(\n",
    "        headline=\"PharmaCo faces lawsuit over drug side effects.\",\n",
    "        fundamentals=\"P/E: 28, Rev Growth: -4%\",\n",
    "        market_conditions=\"VIX: 24 (high)\",\n",
    "        answer=\"Sell\",\n",
    "        rationale=\"Legal risks and negative growth in volatile market.\"\n",
    "    ).with_inputs(\"headline\", \"fundamentals\", \"market_conditions\"),\n",
    "    dspy.Example(\n",
    "        headline=\"EnergyCo reports steady output, no new contracts.\",\n",
    "        fundamentals=\"P/E: 19, Rev Growth: 5%\",\n",
    "        market_conditions=\"VIX: 20 (moderate)\",\n",
    "        answer=\"Hold\",\n",
    "        rationale=\"Stable performance but no strong growth catalyst.\"\n",
    "    ).with_inputs(\"headline\", \"fundamentals\", \"market_conditions\"),\n",
    "    dspy.Example(\n",
    "        headline=\"RetailCo launches loyalty program, mixed reviews.\",\n",
    "        fundamentals=\"P/E: 21, Rev Growth: 6%\",\n",
    "        market_conditions=\"VIX: 19 (moderate)\",\n",
    "        answer=\"Hold\",\n",
    "        rationale=\"Loyalty program impact unclear, moderate market conditions.\"\n",
    "    ).with_inputs(\"headline\", \"fundamentals\", \"market_conditions\"),\n",
    "    dspy.Example(\n",
    "        headline=\"AutoCo ramps up EV production with new factory.\",\n",
    "        fundamentals=\"P/E: 20, Rev Growth: 12%\",\n",
    "        market_conditions=\"VIX: 16 (low)\",\n",
    "        answer=\"Buy\",\n",
    "        rationale=\"Increased production capacity in stable market is positive.\"\n",
    "    ).with_inputs(\"headline\", \"fundamentals\", \"market_conditions\"),\n",
    "    dspy.Example(\n",
    "        headline=\"BankCo reports loan defaults rising slightly.\",\n",
    "        fundamentals=\"P/E: 22, Rev Growth: 3%\",\n",
    "        market_conditions=\"VIX: 21 (moderate)\",\n",
    "        answer=\"Sell\",\n",
    "        rationale=\"Rising defaults and modest growth suggest caution.\"\n",
    "    ).with_inputs(\"headline\", \"fundamentals\", \"market_conditions\"),\n",
    "    dspy.Example(\n",
    "        headline=\"TechCorp expands cloud services, strong demand expected.\",\n",
    "        fundamentals=\"P/E: 24, Rev Growth: 10%\",\n",
    "        market_conditions=\"VIX: 18 (moderate)\",\n",
    "        answer=\"Buy\",\n",
    "        rationale=\"Cloud expansion aligns with demand in stable market.\"\n",
    "    ).with_inputs(\"headline\", \"fundamentals\", \"market_conditions\"),\n",
    "    dspy.Example(\n",
    "        headline=\"PharmaCo halts trials due to funding issues.\",\n",
    "        fundamentals=\"P/E: 26, Rev Growth: -2%\",\n",
    "        market_conditions=\"VIX: 23 (high)\",\n",
    "        answer=\"Sell\",\n",
    "        rationale=\"Funding issues and high volatility pose significant risks.\"\n",
    "    ).with_inputs(\"headline\", \"fundamentals\", \"market_conditions\"),\n",
    "    dspy.Example(\n",
    "        headline=\"EnergyCo signs new solar project deal.\",\n",
    "        fundamentals=\"P/E: 18, Rev Growth: 8%\",\n",
    "        market_conditions=\"VIX: 17 (low)\",\n",
    "        answer=\"Buy\",\n",
    "        rationale=\"New deal and solid fundamentals in stable market.\"\n",
    "    ).with_inputs(\"headline\", \"fundamentals\", \"market_conditions\"),\n",
    "    dspy.Example(\n",
    "        headline=\"RetailCo reports stable holiday sales.\",\n",
    "        fundamentals=\"P/E: 20, Rev Growth: 4%\",\n",
    "        market_conditions=\"VIX: 19 (moderate)\",\n",
    "        answer=\"Hold\",\n",
    "        rationale=\"Stable sales but no significant growth driver.\"\n",
    "    ).with_inputs(\"headline\", \"fundamentals\", \"market_conditions\"),\n",
    "]"
   ]
  },
  {
   "cell_type": "code",
   "execution_count": 10,
   "id": "a275363c",
   "metadata": {},
   "outputs": [
    {
     "name": "stderr",
     "output_type": "stream",
     "text": [
      "2025/07/19 04:46:18 INFO dspy.teleprompt.mipro_optimizer_v2: \n",
      "RUNNING WITH THE FOLLOWING LIGHT AUTO RUN SETTINGS:\n",
      "num_trials: 10\n",
      "minibatch: False\n",
      "num_fewshot_candidates: 6\n",
      "num_instruct_candidates: 3\n",
      "valset size: 10\n",
      "\n",
      "2025/07/19 04:46:18 INFO dspy.teleprompt.mipro_optimizer_v2: \n",
      "==> STEP 1: BOOTSTRAP FEWSHOT EXAMPLES <==\n",
      "2025/07/19 04:46:18 INFO dspy.teleprompt.mipro_optimizer_v2: These will be used as few-shot example candidates for our program and for creating instructions.\n",
      "\n",
      "2025/07/19 04:46:18 INFO dspy.teleprompt.mipro_optimizer_v2: Bootstrapping N=6 sets of demonstrations...\n"
     ]
    },
    {
     "name": "stdout",
     "output_type": "stream",
     "text": [
      "Bootstrapping set 1/6\n",
      "Bootstrapping set 2/6\n",
      "Bootstrapping set 3/6\n"
     ]
    },
    {
     "name": "stderr",
     "output_type": "stream",
     "text": [
      " 30%|███       | 6/20 [00:02<00:06,  2.19it/s]\n"
     ]
    },
    {
     "name": "stdout",
     "output_type": "stream",
     "text": [
      "Bootstrapped 6 full traces after 6 examples for up to 1 rounds, amounting to 6 attempts.\n",
      "Bootstrapping set 4/6\n"
     ]
    },
    {
     "name": "stderr",
     "output_type": "stream",
     "text": [
      " 30%|███       | 6/20 [00:02<00:05,  2.66it/s]\n"
     ]
    },
    {
     "name": "stdout",
     "output_type": "stream",
     "text": [
      "Bootstrapped 6 full traces after 6 examples for up to 1 rounds, amounting to 6 attempts.\n",
      "Bootstrapping set 5/6\n"
     ]
    },
    {
     "name": "stderr",
     "output_type": "stream",
     "text": [
      " 20%|██        | 4/20 [00:01<00:07,  2.17it/s]\n"
     ]
    },
    {
     "name": "stdout",
     "output_type": "stream",
     "text": [
      "Bootstrapped 4 full traces after 4 examples for up to 1 rounds, amounting to 4 attempts.\n",
      "Bootstrapping set 6/6\n"
     ]
    },
    {
     "name": "stderr",
     "output_type": "stream",
     "text": [
      " 30%|███       | 6/20 [00:02<00:06,  2.31it/s]\n",
      "2025/07/19 04:46:28 INFO dspy.teleprompt.mipro_optimizer_v2: \n",
      "==> STEP 2: PROPOSE INSTRUCTION CANDIDATES <==\n",
      "2025/07/19 04:46:28 INFO dspy.teleprompt.mipro_optimizer_v2: We will use the few-shot examples from the previous step, a generated dataset summary, a summary of the program code, and a randomly selected prompting tip to propose instructions.\n"
     ]
    },
    {
     "name": "stdout",
     "output_type": "stream",
     "text": [
      "Bootstrapped 5 full traces after 6 examples for up to 1 rounds, amounting to 6 attempts.\n"
     ]
    },
    {
     "name": "stderr",
     "output_type": "stream",
     "text": [
      "2025/07/19 04:46:31 INFO dspy.teleprompt.mipro_optimizer_v2: \n",
      "Proposing N=3 instructions...\n",
      "\n",
      "2025/07/19 04:46:46 INFO dspy.teleprompt.mipro_optimizer_v2: Proposed Instructions for Predictor 0:\n",
      "\n",
      "2025/07/19 04:46:46 INFO dspy.teleprompt.mipro_optimizer_v2: 0: Given a news headline, company fundamentals, and market conditions, recommend whether to Buy, Hold, or Sell a stock, and provide a rationale.\n",
      "\n",
      "2025/07/19 04:46:46 INFO dspy.teleprompt.mipro_optimizer_v2: 1: As a critical financial analyst, you must make a high-stakes investment decision within the next 24 hours. Given a news headline, company fundamentals, and market conditions, recommend whether to Buy, Hold, or Sell a stock, and provide a detailed rationale. The decision will influence a multi-million dollar investment portfolio, and the accuracy of your analysis will directly impact the financial success of a major investment firm. Your recommendation must be based on a thorough step-by-step analysis of the provided information.\n",
      "\n",
      "2025/07/19 04:46:46 INFO dspy.teleprompt.mipro_optimizer_v2: 2: Analyze a news headline about a company, its current financial fundamentals, and the prevailing market conditions to provide a well-reasoned stock investment recommendation. Based on this analysis, decide whether it is advisable to Buy, Hold, or Sell the stock, and provide a clear and concise rationale supporting your recommendation.\n",
      "\n",
      "2025/07/19 04:46:46 INFO dspy.teleprompt.mipro_optimizer_v2: \n",
      "\n",
      "2025/07/19 04:46:46 INFO dspy.teleprompt.mipro_optimizer_v2: ==> STEP 3: FINDING OPTIMAL PROMPT PARAMETERS <==\n",
      "2025/07/19 04:46:46 INFO dspy.teleprompt.mipro_optimizer_v2: We will evaluate the program over a series of trials with different combinations of instructions and few-shot examples to find the optimal combination using Bayesian Optimization.\n",
      "\n",
      "2025/07/19 04:46:46 INFO dspy.teleprompt.mipro_optimizer_v2: == Trial 1 / 10 - Full Evaluation of Default Program ==\n"
     ]
    },
    {
     "name": "stdout",
     "output_type": "stream",
     "text": [
      "  0%|          | 0/10 [00:00<?, ?it/s]"
     ]
    },
    {
     "name": "stderr",
     "output_type": "stream",
     "text": [
      "2025/07/19 04:46:49 WARNING dspy.adapters.json_adapter: Failed to use structured output format, falling back to JSON mode.\n",
      "2025/07/19 04:46:49 WARNING dspy.adapters.json_adapter: Failed to use structured output format, falling back to JSON mode.\n",
      "2025/07/19 04:46:49 WARNING dspy.adapters.json_adapter: Failed to use structured output format, falling back to JSON mode.\n",
      "2025/07/19 04:46:49 WARNING dspy.adapters.json_adapter: Failed to use structured output format, falling back to JSON mode.\n",
      "2025/07/19 04:46:49 WARNING dspy.adapters.json_adapter: Failed to use structured output format, falling back to JSON mode.\n",
      "2025/07/19 04:46:49 WARNING dspy.adapters.json_adapter: Failed to use structured output format, falling back to JSON mode.\n",
      "2025/07/19 04:46:49 WARNING dspy.adapters.json_adapter: Failed to use structured output format, falling back to JSON mode.\n"
     ]
    },
    {
     "name": "stdout",
     "output_type": "stream",
     "text": [
      "Average Metric: 1.00 / 1 (100.0%):  10%|█         | 1/10 [00:03<00:34,  3.86s/it]"
     ]
    },
    {
     "name": "stderr",
     "output_type": "stream",
     "text": [
      "2025/07/19 04:46:53 ERROR dspy.utils.parallelizer: Error for Example({'headline': 'RetailCo launches loyalty program, mixed reviews.', 'fundamentals': 'P/E: 21, Rev Growth: 6%', 'market_conditions': 'VIX: 19 (moderate)', 'answer': 'Hold', 'rationale': 'Loyalty program impact unclear, moderate market conditions.'}) (input_keys={'fundamentals', 'headline', 'market_conditions'}): Both structured output format and JSON mode failed. Please choose a model that supports `response_format` argument. Original error: litellm.RateLimitError: RateLimitError: GroqException - {\"error\":{\"message\":\"Rate limit reached for model `meta-llama/llama-4-scout-17b-16e-instruct` in organization `org_01jynyvq87f3may0sgyx33aha2` service tier `on_demand` on requests per minute (RPM): Limit 30, Used 30, Requested 1. Please try again in 1.942s. Need more tokens? Upgrade to Dev Tier today at https://console.groq.com/settings/billing\",\"type\":\"requests\",\"code\":\"rate_limit_exceeded\"}}\n",
      ". Set `provide_traceback=True` for traceback.\n"
     ]
    },
    {
     "name": "stdout",
     "output_type": "stream",
     "text": [
      "Average Metric: 1.00 / 1 (100.0%):  10%|█         | 1/10 [00:06<00:34,  3.86s/it]"
     ]
    },
    {
     "name": "stderr",
     "output_type": "stream",
     "text": [
      "2025/07/19 04:46:53 ERROR dspy.utils.parallelizer: Error for Example({'headline': 'TechCorp expands cloud services, strong demand expected.', 'fundamentals': 'P/E: 24, Rev Growth: 10%', 'market_conditions': 'VIX: 18 (moderate)', 'answer': 'Buy', 'rationale': 'Cloud expansion aligns with demand in stable market.'}) (input_keys={'fundamentals', 'headline', 'market_conditions'}): Both structured output format and JSON mode failed. Please choose a model that supports `response_format` argument. Original error: litellm.RateLimitError: RateLimitError: GroqException - {\"error\":{\"message\":\"Rate limit reached for model `meta-llama/llama-4-scout-17b-16e-instruct` in organization `org_01jynyvq87f3may0sgyx33aha2` service tier `on_demand` on requests per minute (RPM): Limit 30, Used 30, Requested 1. Please try again in 1.943s. Need more tokens? Upgrade to Dev Tier today at https://console.groq.com/settings/billing\",\"type\":\"requests\",\"code\":\"rate_limit_exceeded\"}}\n",
      ". Set `provide_traceback=True` for traceback.\n"
     ]
    },
    {
     "name": "stdout",
     "output_type": "stream",
     "text": [
      "Average Metric: 1.00 / 1 (100.0%):  20%|██        | 2/10 [00:06<00:26,  3.28s/it]"
     ]
    },
    {
     "name": "stderr",
     "output_type": "stream",
     "text": [
      "2025/07/19 04:46:53 ERROR dspy.utils.parallelizer: Error for Example({'headline': 'PharmaCo faces lawsuit over drug side effects.', 'fundamentals': 'P/E: 28, Rev Growth: -4%', 'market_conditions': 'VIX: 24 (high)', 'answer': 'Sell', 'rationale': 'Legal risks and negative growth in volatile market.'}) (input_keys={'fundamentals', 'headline', 'market_conditions'}): Both structured output format and JSON mode failed. Please choose a model that supports `response_format` argument. Original error: litellm.RateLimitError: RateLimitError: GroqException - {\"error\":{\"message\":\"Rate limit reached for model `meta-llama/llama-4-scout-17b-16e-instruct` in organization `org_01jynyvq87f3may0sgyx33aha2` service tier `on_demand` on requests per minute (RPM): Limit 30, Used 30, Requested 1. Please try again in 1.912s. Need more tokens? Upgrade to Dev Tier today at https://console.groq.com/settings/billing\",\"type\":\"requests\",\"code\":\"rate_limit_exceeded\"}}\n",
      ". Set `provide_traceback=True` for traceback.\n"
     ]
    },
    {
     "name": "stdout",
     "output_type": "stream",
     "text": [
      "Average Metric: 1.00 / 1 (100.0%):  30%|███       | 3/10 [00:06<00:22,  3.28s/it]"
     ]
    },
    {
     "name": "stderr",
     "output_type": "stream",
     "text": [
      "2025/07/19 04:46:53 ERROR dspy.utils.parallelizer: Error for Example({'headline': 'PharmaCo halts trials due to funding issues.', 'fundamentals': 'P/E: 26, Rev Growth: -2%', 'market_conditions': 'VIX: 23 (high)', 'answer': 'Sell', 'rationale': 'Funding issues and high volatility pose significant risks.'}) (input_keys={'fundamentals', 'headline', 'market_conditions'}): Both structured output format and JSON mode failed. Please choose a model that supports `response_format` argument. Original error: litellm.RateLimitError: RateLimitError: GroqException - {\"error\":{\"message\":\"Rate limit reached for model `meta-llama/llama-4-scout-17b-16e-instruct` in organization `org_01jynyvq87f3may0sgyx33aha2` service tier `on_demand` on requests per minute (RPM): Limit 30, Used 30, Requested 1. Please try again in 1.854s. Need more tokens? Upgrade to Dev Tier today at https://console.groq.com/settings/billing\",\"type\":\"requests\",\"code\":\"rate_limit_exceeded\"}}\n",
      ". Set `provide_traceback=True` for traceback.\n"
     ]
    },
    {
     "name": "stdout",
     "output_type": "stream",
     "text": [
      "Average Metric: 1.00 / 1 (100.0%):  40%|████      | 4/10 [00:06<00:19,  3.28s/it]"
     ]
    },
    {
     "name": "stderr",
     "output_type": "stream",
     "text": [
      "2025/07/19 04:46:53 ERROR dspy.utils.parallelizer: Error for Example({'headline': 'BankCo reports loan defaults rising slightly.', 'fundamentals': 'P/E: 22, Rev Growth: 3%', 'market_conditions': 'VIX: 21 (moderate)', 'answer': 'Sell', 'rationale': 'Rising defaults and modest growth suggest caution.'}) (input_keys={'fundamentals', 'headline', 'market_conditions'}): Both structured output format and JSON mode failed. Please choose a model that supports `response_format` argument. Original error: litellm.RateLimitError: RateLimitError: GroqException - {\"error\":{\"message\":\"Rate limit reached for model `meta-llama/llama-4-scout-17b-16e-instruct` in organization `org_01jynyvq87f3may0sgyx33aha2` service tier `on_demand` on requests per minute (RPM): Limit 30, Used 30, Requested 1. Please try again in 1.839s. Need more tokens? Upgrade to Dev Tier today at https://console.groq.com/settings/billing\",\"type\":\"requests\",\"code\":\"rate_limit_exceeded\"}}\n",
      ". Set `provide_traceback=True` for traceback.\n",
      "2025/07/19 04:46:53 ERROR dspy.utils.parallelizer: Error for Example({'headline': 'EnergyCo reports steady output, no new contracts.', 'fundamentals': 'P/E: 19, Rev Growth: 5%', 'market_conditions': 'VIX: 20 (moderate)', 'answer': 'Hold', 'rationale': 'Stable performance but no strong growth catalyst.'}) (input_keys={'fundamentals', 'headline', 'market_conditions'}): Both structured output format and JSON mode failed. Please choose a model that supports `response_format` argument. Original error: litellm.RateLimitError: RateLimitError: GroqException - {\"error\":{\"message\":\"Rate limit reached for model `meta-llama/llama-4-scout-17b-16e-instruct` in organization `org_01jynyvq87f3may0sgyx33aha2` service tier `on_demand` on requests per minute (RPM): Limit 30, Used 30, Requested 1. Please try again in 1.833s. Need more tokens? Upgrade to Dev Tier today at https://console.groq.com/settings/billing\",\"type\":\"requests\",\"code\":\"rate_limit_exceeded\"}}\n",
      ". Set `provide_traceback=True` for traceback.\n"
     ]
    },
    {
     "name": "stdout",
     "output_type": "stream",
     "text": [
      "Average Metric: 2.00 / 2 (100.0%):  80%|████████  | 8/10 [00:06<00:01,  1.73it/s]"
     ]
    },
    {
     "name": "stderr",
     "output_type": "stream",
     "text": [
      "2025/07/19 04:46:53 WARNING dspy.adapters.json_adapter: Failed to use structured output format, falling back to JSON mode.\n",
      "2025/07/19 04:46:56 ERROR dspy.utils.parallelizer: Error for Example({'headline': 'EnergyCo signs new solar project deal.', 'fundamentals': 'P/E: 18, Rev Growth: 8%', 'market_conditions': 'VIX: 17 (low)', 'answer': 'Buy', 'rationale': 'New deal and solid fundamentals in stable market.'}) (input_keys={'fundamentals', 'headline', 'market_conditions'}): Both structured output format and JSON mode failed. Please choose a model that supports `response_format` argument. Original error: litellm.RateLimitError: RateLimitError: GroqException - {\"error\":{\"message\":\"Rate limit reached for model `meta-llama/llama-4-scout-17b-16e-instruct` in organization `org_01jynyvq87f3may0sgyx33aha2` service tier `on_demand` on requests per minute (RPM): Limit 30, Used 30, Requested 1. Please try again in 1.637s. Need more tokens? Upgrade to Dev Tier today at https://console.groq.com/settings/billing\",\"type\":\"requests\",\"code\":\"rate_limit_exceeded\"}}\n",
      ". Set `provide_traceback=True` for traceback.\n"
     ]
    },
    {
     "name": "stdout",
     "output_type": "stream",
     "text": [
      "Average Metric: 3.00 / 3 (100.0%): 100%|██████████| 10/10 [00:10<00:00,  1.05s/it]"
     ]
    },
    {
     "name": "stderr",
     "output_type": "stream",
     "text": [
      "2025/07/19 04:46:57 INFO dspy.evaluate.evaluate: Average Metric: 3.0 / 10 (30.0%)\n",
      "2025/07/19 04:46:57 INFO dspy.teleprompt.mipro_optimizer_v2: Default program score: 30.0\n",
      "\n"
     ]
    },
    {
     "name": "stdout",
     "output_type": "stream",
     "text": [
      "\n"
     ]
    },
    {
     "name": "stderr",
     "output_type": "stream",
     "text": [
      "d:\\DS_Work\\Dspy_Langraph\\dspyenv\\Lib\\site-packages\\optuna\\_experimental.py:32: ExperimentalWarning: Argument ``multivariate`` is an experimental feature. The interface can change in the future.\n",
      "  warnings.warn(\n",
      "2025/07/19 04:46:57 INFO dspy.teleprompt.mipro_optimizer_v2: ===== Trial 2 / 10 =====\n"
     ]
    },
    {
     "name": "stdout",
     "output_type": "stream",
     "text": [
      "  0%|          | 0/10 [00:00<?, ?it/s]"
     ]
    },
    {
     "name": "stderr",
     "output_type": "stream",
     "text": [
      "2025/07/19 04:47:00 WARNING dspy.adapters.json_adapter: Failed to use structured output format, falling back to JSON mode.\n",
      "2025/07/19 04:47:00 WARNING dspy.adapters.json_adapter: Failed to use structured output format, falling back to JSON mode.\n",
      "2025/07/19 04:47:00 WARNING dspy.adapters.json_adapter: Failed to use structured output format, falling back to JSON mode.\n",
      "2025/07/19 04:47:00 WARNING dspy.adapters.json_adapter: Failed to use structured output format, falling back to JSON mode.\n",
      "2025/07/19 04:47:00 WARNING dspy.adapters.json_adapter: Failed to use structured output format, falling back to JSON mode.\n",
      "2025/07/19 04:47:00 WARNING dspy.adapters.json_adapter: Failed to use structured output format, falling back to JSON mode.\n",
      "2025/07/19 04:47:00 WARNING dspy.adapters.json_adapter: Failed to use structured output format, falling back to JSON mode.\n"
     ]
    },
    {
     "name": "stdout",
     "output_type": "stream",
     "text": [
      "Average Metric: 1.00 / 1 (100.0%):  10%|█         | 1/10 [00:03<00:32,  3.66s/it]"
     ]
    },
    {
     "name": "stderr",
     "output_type": "stream",
     "text": [
      "2025/07/19 04:47:03 ERROR dspy.utils.parallelizer: Error for Example({'headline': 'PharmaCo faces lawsuit over drug side effects.', 'fundamentals': 'P/E: 28, Rev Growth: -4%', 'market_conditions': 'VIX: 24 (high)', 'answer': 'Sell', 'rationale': 'Legal risks and negative growth in volatile market.'}) (input_keys={'fundamentals', 'headline', 'market_conditions'}): Both structured output format and JSON mode failed. Please choose a model that supports `response_format` argument. Original error: litellm.RateLimitError: RateLimitError: GroqException - {\"error\":{\"message\":\"Rate limit reached for model `meta-llama/llama-4-scout-17b-16e-instruct` in organization `org_01jynyvq87f3may0sgyx33aha2` service tier `on_demand` on requests per minute (RPM): Limit 30, Used 30, Requested 1. Please try again in 1.987s. Need more tokens? Upgrade to Dev Tier today at https://console.groq.com/settings/billing\",\"type\":\"requests\",\"code\":\"rate_limit_exceeded\"}}\n",
      ". Set `provide_traceback=True` for traceback.\n"
     ]
    },
    {
     "name": "stdout",
     "output_type": "stream",
     "text": [
      "Average Metric: 1.00 / 1 (100.0%):  10%|█         | 1/10 [00:06<00:32,  3.66s/it]"
     ]
    },
    {
     "name": "stderr",
     "output_type": "stream",
     "text": [
      "2025/07/19 04:47:03 ERROR dspy.utils.parallelizer: Error for Example({'headline': 'PharmaCo halts trials due to funding issues.', 'fundamentals': 'P/E: 26, Rev Growth: -2%', 'market_conditions': 'VIX: 23 (high)', 'answer': 'Sell', 'rationale': 'Funding issues and high volatility pose significant risks.'}) (input_keys={'fundamentals', 'headline', 'market_conditions'}): Both structured output format and JSON mode failed. Please choose a model that supports `response_format` argument. Original error: litellm.RateLimitError: RateLimitError: GroqException - {\"error\":{\"message\":\"Rate limit reached for model `meta-llama/llama-4-scout-17b-16e-instruct` in organization `org_01jynyvq87f3may0sgyx33aha2` service tier `on_demand` on requests per minute (RPM): Limit 30, Used 30, Requested 1. Please try again in 1.99s. Need more tokens? Upgrade to Dev Tier today at https://console.groq.com/settings/billing\",\"type\":\"requests\",\"code\":\"rate_limit_exceeded\"}}\n",
      ". Set `provide_traceback=True` for traceback.\n"
     ]
    },
    {
     "name": "stdout",
     "output_type": "stream",
     "text": [
      "Average Metric: 1.00 / 1 (100.0%):  20%|██        | 2/10 [00:06<00:26,  3.36s/it]"
     ]
    },
    {
     "name": "stderr",
     "output_type": "stream",
     "text": [
      "2025/07/19 04:47:03 ERROR dspy.utils.parallelizer: Error for Example({'headline': 'TechCorp expands cloud services, strong demand expected.', 'fundamentals': 'P/E: 24, Rev Growth: 10%', 'market_conditions': 'VIX: 18 (moderate)', 'answer': 'Buy', 'rationale': 'Cloud expansion aligns with demand in stable market.'}) (input_keys={'fundamentals', 'headline', 'market_conditions'}): Both structured output format and JSON mode failed. Please choose a model that supports `response_format` argument. Original error: litellm.RateLimitError: RateLimitError: GroqException - {\"error\":{\"message\":\"Rate limit reached for model `meta-llama/llama-4-scout-17b-16e-instruct` in organization `org_01jynyvq87f3may0sgyx33aha2` service tier `on_demand` on requests per minute (RPM): Limit 30, Used 30, Requested 1. Please try again in 1.899s. Need more tokens? Upgrade to Dev Tier today at https://console.groq.com/settings/billing\",\"type\":\"requests\",\"code\":\"rate_limit_exceeded\"}}\n",
      ". Set `provide_traceback=True` for traceback.\n"
     ]
    },
    {
     "name": "stdout",
     "output_type": "stream",
     "text": [
      "Average Metric: 1.00 / 1 (100.0%):  30%|███       | 3/10 [00:06<00:23,  3.36s/it]"
     ]
    },
    {
     "name": "stderr",
     "output_type": "stream",
     "text": [
      "2025/07/19 04:47:03 ERROR dspy.utils.parallelizer: Error for Example({'headline': 'EnergyCo reports steady output, no new contracts.', 'fundamentals': 'P/E: 19, Rev Growth: 5%', 'market_conditions': 'VIX: 20 (moderate)', 'answer': 'Hold', 'rationale': 'Stable performance but no strong growth catalyst.'}) (input_keys={'fundamentals', 'headline', 'market_conditions'}): Both structured output format and JSON mode failed. Please choose a model that supports `response_format` argument. Original error: litellm.RateLimitError: RateLimitError: GroqException - {\"error\":{\"message\":\"Rate limit reached for model `meta-llama/llama-4-scout-17b-16e-instruct` in organization `org_01jynyvq87f3may0sgyx33aha2` service tier `on_demand` on requests per minute (RPM): Limit 30, Used 30, Requested 1. Please try again in 1.893s. Need more tokens? Upgrade to Dev Tier today at https://console.groq.com/settings/billing\",\"type\":\"requests\",\"code\":\"rate_limit_exceeded\"}}\n",
      ". Set `provide_traceback=True` for traceback.\n",
      "2025/07/19 04:47:03 ERROR dspy.utils.parallelizer: Error for Example({'headline': 'AutoCo ramps up EV production with new factory.', 'fundamentals': 'P/E: 20, Rev Growth: 12%', 'market_conditions': 'VIX: 16 (low)', 'answer': 'Buy', 'rationale': 'Increased production capacity in stable market is positive.'}) (input_keys={'fundamentals', 'headline', 'market_conditions'}): Both structured output format and JSON mode failed. Please choose a model that supports `response_format` argument. Original error: litellm.RateLimitError: RateLimitError: GroqException - {\"error\":{\"message\":\"Rate limit reached for model `meta-llama/llama-4-scout-17b-16e-instruct` in organization `org_01jynyvq87f3may0sgyx33aha2` service tier `on_demand` on requests per minute (RPM): Limit 30, Used 30, Requested 1. Please try again in 1.889s. Need more tokens? Upgrade to Dev Tier today at https://console.groq.com/settings/billing\",\"type\":\"requests\",\"code\":\"rate_limit_exceeded\"}}\n",
      ". Set `provide_traceback=True` for traceback.\n",
      "2025/07/19 04:47:03 ERROR dspy.utils.parallelizer: Error for Example({'headline': 'RetailCo launches loyalty program, mixed reviews.', 'fundamentals': 'P/E: 21, Rev Growth: 6%', 'market_conditions': 'VIX: 19 (moderate)', 'answer': 'Hold', 'rationale': 'Loyalty program impact unclear, moderate market conditions.'}) (input_keys={'fundamentals', 'headline', 'market_conditions'}): Both structured output format and JSON mode failed. Please choose a model that supports `response_format` argument. Original error: litellm.RateLimitError: RateLimitError: GroqException - {\"error\":{\"message\":\"Rate limit reached for model `meta-llama/llama-4-scout-17b-16e-instruct` in organization `org_01jynyvq87f3may0sgyx33aha2` service tier `on_demand` on requests per minute (RPM): Limit 30, Used 30, Requested 1. Please try again in 1.896s. Need more tokens? Upgrade to Dev Tier today at https://console.groq.com/settings/billing\",\"type\":\"requests\",\"code\":\"rate_limit_exceeded\"}}\n",
      ". Set `provide_traceback=True` for traceback.\n"
     ]
    },
    {
     "name": "stdout",
     "output_type": "stream",
     "text": [
      "Average Metric: 1.00 / 1 (100.0%):  60%|██████    | 6/10 [00:06<00:03,  1.02it/s]"
     ]
    },
    {
     "name": "stderr",
     "output_type": "stream",
     "text": [
      "2025/07/19 04:47:04 WARNING dspy.adapters.json_adapter: Failed to use structured output format, falling back to JSON mode.\n"
     ]
    },
    {
     "name": "stdout",
     "output_type": "stream",
     "text": [
      "Average Metric: 1.00 / 2 (50.0%):  80%|████████  | 8/10 [00:07<00:01,  1.96it/s] "
     ]
    },
    {
     "name": "stderr",
     "output_type": "stream",
     "text": [
      "2025/07/19 04:47:07 ERROR dspy.utils.parallelizer: Error for Example({'headline': 'EnergyCo signs new solar project deal.', 'fundamentals': 'P/E: 18, Rev Growth: 8%', 'market_conditions': 'VIX: 17 (low)', 'answer': 'Buy', 'rationale': 'New deal and solid fundamentals in stable market.'}) (input_keys={'fundamentals', 'headline', 'market_conditions'}): Both structured output format and JSON mode failed. Please choose a model that supports `response_format` argument. Original error: litellm.RateLimitError: RateLimitError: GroqException - {\"error\":{\"message\":\"Rate limit reached for model `meta-llama/llama-4-scout-17b-16e-instruct` in organization `org_01jynyvq87f3may0sgyx33aha2` service tier `on_demand` on requests per minute (RPM): Limit 30, Used 30, Requested 1. Please try again in 1.866s. Need more tokens? Upgrade to Dev Tier today at https://console.groq.com/settings/billing\",\"type\":\"requests\",\"code\":\"rate_limit_exceeded\"}}\n",
      ". Set `provide_traceback=True` for traceback.\n"
     ]
    },
    {
     "name": "stdout",
     "output_type": "stream",
     "text": [
      "Average Metric: 2.00 / 3 (66.7%): 100%|██████████| 10/10 [00:10<00:00,  1.04s/it]"
     ]
    },
    {
     "name": "stderr",
     "output_type": "stream",
     "text": [
      "2025/07/19 04:47:07 INFO dspy.evaluate.evaluate: Average Metric: 2.0 / 10 (20.0%)\n",
      "2025/07/19 04:47:07 INFO dspy.teleprompt.mipro_optimizer_v2: Score: 20.0 with parameters ['Predictor 0: Instruction 1', 'Predictor 0: Few-Shot Set 3'].\n",
      "2025/07/19 04:47:07 INFO dspy.teleprompt.mipro_optimizer_v2: Scores so far: [30.0, 20.0]\n",
      "2025/07/19 04:47:07 INFO dspy.teleprompt.mipro_optimizer_v2: Best score so far: 30.0\n",
      "2025/07/19 04:47:07 INFO dspy.teleprompt.mipro_optimizer_v2: ========================\n",
      "\n",
      "\n",
      "2025/07/19 04:47:07 INFO dspy.teleprompt.mipro_optimizer_v2: ===== Trial 3 / 10 =====\n"
     ]
    },
    {
     "name": "stdout",
     "output_type": "stream",
     "text": [
      "\n",
      "  0%|          | 0/10 [00:00<?, ?it/s]"
     ]
    },
    {
     "name": "stderr",
     "output_type": "stream",
     "text": [
      "2025/07/19 04:47:10 WARNING dspy.adapters.json_adapter: Failed to use structured output format, falling back to JSON mode.\n",
      "2025/07/19 04:47:10 WARNING dspy.adapters.json_adapter: Failed to use structured output format, falling back to JSON mode.\n",
      "2025/07/19 04:47:10 WARNING dspy.adapters.json_adapter: Failed to use structured output format, falling back to JSON mode.\n",
      "2025/07/19 04:47:10 WARNING dspy.adapters.json_adapter: Failed to use structured output format, falling back to JSON mode.\n",
      "2025/07/19 04:47:10 WARNING dspy.adapters.json_adapter: Failed to use structured output format, falling back to JSON mode.\n",
      "2025/07/19 04:47:10 WARNING dspy.adapters.json_adapter: Failed to use structured output format, falling back to JSON mode.\n",
      "2025/07/19 04:47:10 WARNING dspy.adapters.json_adapter: Failed to use structured output format, falling back to JSON mode.\n"
     ]
    },
    {
     "name": "stdout",
     "output_type": "stream",
     "text": [
      "Average Metric: 1.00 / 1 (100.0%):  10%|█         | 1/10 [00:03<00:33,  3.74s/it]"
     ]
    },
    {
     "name": "stderr",
     "output_type": "stream",
     "text": [
      "2025/07/19 04:47:14 ERROR dspy.utils.parallelizer: Error for Example({'headline': 'BankCo reports loan defaults rising slightly.', 'fundamentals': 'P/E: 22, Rev Growth: 3%', 'market_conditions': 'VIX: 21 (moderate)', 'answer': 'Sell', 'rationale': 'Rising defaults and modest growth suggest caution.'}) (input_keys={'fundamentals', 'headline', 'market_conditions'}): Both structured output format and JSON mode failed. Please choose a model that supports `response_format` argument. Original error: litellm.RateLimitError: RateLimitError: GroqException - {\"error\":{\"message\":\"Rate limit reached for model `meta-llama/llama-4-scout-17b-16e-instruct` in organization `org_01jynyvq87f3may0sgyx33aha2` service tier `on_demand` on requests per minute (RPM): Limit 30, Used 30, Requested 1. Please try again in 1.978s. Need more tokens? Upgrade to Dev Tier today at https://console.groq.com/settings/billing\",\"type\":\"requests\",\"code\":\"rate_limit_exceeded\"}}\n",
      ". Set `provide_traceback=True` for traceback.\n"
     ]
    },
    {
     "name": "stdout",
     "output_type": "stream",
     "text": [
      "Average Metric: 1.00 / 1 (100.0%):  20%|██        | 2/10 [00:06<00:25,  3.21s/it]"
     ]
    },
    {
     "name": "stderr",
     "output_type": "stream",
     "text": [
      "2025/07/19 04:47:14 ERROR dspy.utils.parallelizer: Error for Example({'headline': 'PharmaCo faces lawsuit over drug side effects.', 'fundamentals': 'P/E: 28, Rev Growth: -4%', 'market_conditions': 'VIX: 24 (high)', 'answer': 'Sell', 'rationale': 'Legal risks and negative growth in volatile market.'}) (input_keys={'fundamentals', 'headline', 'market_conditions'}): Both structured output format and JSON mode failed. Please choose a model that supports `response_format` argument. Original error: litellm.RateLimitError: RateLimitError: GroqException - {\"error\":{\"message\":\"Rate limit reached for model `meta-llama/llama-4-scout-17b-16e-instruct` in organization `org_01jynyvq87f3may0sgyx33aha2` service tier `on_demand` on requests per minute (RPM): Limit 30, Used 30, Requested 1. Please try again in 1.909s. Need more tokens? Upgrade to Dev Tier today at https://console.groq.com/settings/billing\",\"type\":\"requests\",\"code\":\"rate_limit_exceeded\"}}\n",
      ". Set `provide_traceback=True` for traceback.\n"
     ]
    },
    {
     "name": "stdout",
     "output_type": "stream",
     "text": [
      "Average Metric: 1.00 / 1 (100.0%):  30%|███       | 3/10 [00:06<00:12,  1.80s/it]"
     ]
    },
    {
     "name": "stderr",
     "output_type": "stream",
     "text": [
      "2025/07/19 04:47:14 ERROR dspy.utils.parallelizer: Error for Example({'headline': 'TechCorp expands cloud services, strong demand expected.', 'fundamentals': 'P/E: 24, Rev Growth: 10%', 'market_conditions': 'VIX: 18 (moderate)', 'answer': 'Buy', 'rationale': 'Cloud expansion aligns with demand in stable market.'}) (input_keys={'fundamentals', 'headline', 'market_conditions'}): Both structured output format and JSON mode failed. Please choose a model that supports `response_format` argument. Original error: litellm.RateLimitError: RateLimitError: GroqException - {\"error\":{\"message\":\"Rate limit reached for model `meta-llama/llama-4-scout-17b-16e-instruct` in organization `org_01jynyvq87f3may0sgyx33aha2` service tier `on_demand` on requests per minute (RPM): Limit 30, Used 30, Requested 1. Please try again in 1.894s. Need more tokens? Upgrade to Dev Tier today at https://console.groq.com/settings/billing\",\"type\":\"requests\",\"code\":\"rate_limit_exceeded\"}}\n",
      ". Set `provide_traceback=True` for traceback.\n",
      "2025/07/19 04:47:14 ERROR dspy.utils.parallelizer: Error for Example({'headline': 'EnergyCo reports steady output, no new contracts.', 'fundamentals': 'P/E: 19, Rev Growth: 5%', 'market_conditions': 'VIX: 20 (moderate)', 'answer': 'Hold', 'rationale': 'Stable performance but no strong growth catalyst.'}) (input_keys={'fundamentals', 'headline', 'market_conditions'}): Both structured output format and JSON mode failed. Please choose a model that supports `response_format` argument. Original error: litellm.RateLimitError: RateLimitError: GroqException - {\"error\":{\"message\":\"Rate limit reached for model `meta-llama/llama-4-scout-17b-16e-instruct` in organization `org_01jynyvq87f3may0sgyx33aha2` service tier `on_demand` on requests per minute (RPM): Limit 30, Used 30, Requested 1. Please try again in 1.906s. Need more tokens? Upgrade to Dev Tier today at https://console.groq.com/settings/billing\",\"type\":\"requests\",\"code\":\"rate_limit_exceeded\"}}\n",
      ". Set `provide_traceback=True` for traceback.\n"
     ]
    },
    {
     "name": "stdout",
     "output_type": "stream",
     "text": [
      "Average Metric: 1.00 / 1 (100.0%):  30%|███       | 3/10 [00:06<00:12,  1.80s/it]"
     ]
    },
    {
     "name": "stderr",
     "output_type": "stream",
     "text": [
      "2025/07/19 04:47:14 ERROR dspy.utils.parallelizer: Error for Example({'headline': 'RetailCo launches loyalty program, mixed reviews.', 'fundamentals': 'P/E: 21, Rev Growth: 6%', 'market_conditions': 'VIX: 19 (moderate)', 'answer': 'Hold', 'rationale': 'Loyalty program impact unclear, moderate market conditions.'}) (input_keys={'fundamentals', 'headline', 'market_conditions'}): Both structured output format and JSON mode failed. Please choose a model that supports `response_format` argument. Original error: litellm.RateLimitError: RateLimitError: GroqException - {\"error\":{\"message\":\"Rate limit reached for model `meta-llama/llama-4-scout-17b-16e-instruct` in organization `org_01jynyvq87f3may0sgyx33aha2` service tier `on_demand` on requests per minute (RPM): Limit 30, Used 30, Requested 1. Please try again in 1.873s. Need more tokens? Upgrade to Dev Tier today at https://console.groq.com/settings/billing\",\"type\":\"requests\",\"code\":\"rate_limit_exceeded\"}}\n",
      ". Set `provide_traceback=True` for traceback.\n"
     ]
    },
    {
     "name": "stdout",
     "output_type": "stream",
     "text": [
      "Average Metric: 1.00 / 1 (100.0%):  50%|█████     | 5/10 [00:06<00:08,  1.80s/it]"
     ]
    },
    {
     "name": "stderr",
     "output_type": "stream",
     "text": [
      "2025/07/19 04:47:14 ERROR dspy.utils.parallelizer: Error for Example({'headline': 'TechCorp unveils new AI chip, analysts optimistic.', 'fundamentals': 'P/E: 23, Rev Growth: 14%', 'market_conditions': 'VIX: 17 (low)', 'answer': 'Buy', 'rationale': 'Innovative product and strong fundamentals in stable market.'}) (input_keys={'fundamentals', 'headline', 'market_conditions'}): Both structured output format and JSON mode failed. Please choose a model that supports `response_format` argument. Original error: litellm.RateLimitError: RateLimitError: GroqException - {\"error\":{\"message\":\"Rate limit reached for model `meta-llama/llama-4-scout-17b-16e-instruct` in organization `org_01jynyvq87f3may0sgyx33aha2` service tier `on_demand` on requests per minute (RPM): Limit 30, Used 30, Requested 1. Please try again in 1.876s. Need more tokens? Upgrade to Dev Tier today at https://console.groq.com/settings/billing\",\"type\":\"requests\",\"code\":\"rate_limit_exceeded\"}}\n",
      ". Set `provide_traceback=True` for traceback.\n"
     ]
    },
    {
     "name": "stdout",
     "output_type": "stream",
     "text": [
      "Average Metric: 1.00 / 1 (100.0%):  60%|██████    | 6/10 [00:06<00:07,  1.80s/it]"
     ]
    },
    {
     "name": "stderr",
     "output_type": "stream",
     "text": [
      "2025/07/19 04:47:14 WARNING dspy.adapters.json_adapter: Failed to use structured output format, falling back to JSON mode.\n"
     ]
    },
    {
     "name": "stdout",
     "output_type": "stream",
     "text": [
      "Average Metric: 2.00 / 2 (100.0%):  80%|████████  | 8/10 [00:06<00:00,  2.13it/s]"
     ]
    },
    {
     "name": "stderr",
     "output_type": "stream",
     "text": [
      "2025/07/19 04:47:17 ERROR dspy.utils.parallelizer: Error for Example({'headline': 'EnergyCo signs new solar project deal.', 'fundamentals': 'P/E: 18, Rev Growth: 8%', 'market_conditions': 'VIX: 17 (low)', 'answer': 'Buy', 'rationale': 'New deal and solid fundamentals in stable market.'}) (input_keys={'fundamentals', 'headline', 'market_conditions'}): Both structured output format and JSON mode failed. Please choose a model that supports `response_format` argument. Original error: litellm.RateLimitError: RateLimitError: GroqException - {\"error\":{\"message\":\"Rate limit reached for model `meta-llama/llama-4-scout-17b-16e-instruct` in organization `org_01jynyvq87f3may0sgyx33aha2` service tier `on_demand` on requests per minute (RPM): Limit 30, Used 30, Requested 1. Please try again in 1.675s. Need more tokens? Upgrade to Dev Tier today at https://console.groq.com/settings/billing\",\"type\":\"requests\",\"code\":\"rate_limit_exceeded\"}}\n",
      ". Set `provide_traceback=True` for traceback.\n"
     ]
    },
    {
     "name": "stdout",
     "output_type": "stream",
     "text": [
      "Average Metric: 3.00 / 3 (100.0%): 100%|██████████| 10/10 [00:10<00:00,  1.04s/it]"
     ]
    },
    {
     "name": "stderr",
     "output_type": "stream",
     "text": [
      "2025/07/19 04:47:17 INFO dspy.evaluate.evaluate: Average Metric: 3.0 / 10 (30.0%)\n",
      "2025/07/19 04:47:17 INFO dspy.teleprompt.mipro_optimizer_v2: Score: 30.0 with parameters ['Predictor 0: Instruction 2', 'Predictor 0: Few-Shot Set 0'].\n",
      "2025/07/19 04:47:17 INFO dspy.teleprompt.mipro_optimizer_v2: Scores so far: [30.0, 20.0, 30.0]\n",
      "2025/07/19 04:47:17 INFO dspy.teleprompt.mipro_optimizer_v2: Best score so far: 30.0\n",
      "2025/07/19 04:47:17 INFO dspy.teleprompt.mipro_optimizer_v2: ========================\n",
      "\n",
      "\n",
      "2025/07/19 04:47:17 INFO dspy.teleprompt.mipro_optimizer_v2: ===== Trial 4 / 10 =====\n"
     ]
    },
    {
     "name": "stdout",
     "output_type": "stream",
     "text": [
      "\n",
      "Average Metric: 1.00 / 1 (100.0%):  10%|█         | 1/10 [00:01<00:16,  1.78s/it]"
     ]
    },
    {
     "name": "stderr",
     "output_type": "stream",
     "text": [
      "2025/07/19 04:47:21 WARNING dspy.adapters.json_adapter: Failed to use structured output format, falling back to JSON mode.\n",
      "2025/07/19 04:47:21 WARNING dspy.adapters.json_adapter: Failed to use structured output format, falling back to JSON mode.\n",
      "2025/07/19 04:47:21 WARNING dspy.adapters.json_adapter: Failed to use structured output format, falling back to JSON mode.\n",
      "2025/07/19 04:47:21 WARNING dspy.adapters.json_adapter: Failed to use structured output format, falling back to JSON mode.\n",
      "2025/07/19 04:47:21 WARNING dspy.adapters.json_adapter: Failed to use structured output format, falling back to JSON mode.\n",
      "2025/07/19 04:47:21 WARNING dspy.adapters.json_adapter: Failed to use structured output format, falling back to JSON mode.\n"
     ]
    },
    {
     "name": "stdout",
     "output_type": "stream",
     "text": [
      "Average Metric: 2.00 / 2 (100.0%):  20%|██        | 2/10 [00:03<00:15,  1.96s/it]"
     ]
    },
    {
     "name": "stderr",
     "output_type": "stream",
     "text": [
      "2025/07/19 04:47:22 WARNING dspy.adapters.json_adapter: Failed to use structured output format, falling back to JSON mode.\n",
      "2025/07/19 04:47:24 ERROR dspy.utils.parallelizer: Error for Example({'headline': 'PharmaCo halts trials due to funding issues.', 'fundamentals': 'P/E: 26, Rev Growth: -2%', 'market_conditions': 'VIX: 23 (high)', 'answer': 'Sell', 'rationale': 'Funding issues and high volatility pose significant risks.'}) (input_keys={'fundamentals', 'headline', 'market_conditions'}): Both structured output format and JSON mode failed. Please choose a model that supports `response_format` argument. Original error: litellm.RateLimitError: RateLimitError: GroqException - {\"error\":{\"message\":\"Rate limit reached for model `meta-llama/llama-4-scout-17b-16e-instruct` in organization `org_01jynyvq87f3may0sgyx33aha2` service tier `on_demand` on requests per minute (RPM): Limit 30, Used 30, Requested 1. Please try again in 1.686s. Need more tokens? Upgrade to Dev Tier today at https://console.groq.com/settings/billing\",\"type\":\"requests\",\"code\":\"rate_limit_exceeded\"}}\n",
      ". Set `provide_traceback=True` for traceback.\n"
     ]
    },
    {
     "name": "stdout",
     "output_type": "stream",
     "text": [
      "Average Metric: 2.00 / 2 (100.0%):  30%|███       | 3/10 [00:06<00:16,  2.29s/it]"
     ]
    },
    {
     "name": "stderr",
     "output_type": "stream",
     "text": [
      "2025/07/19 04:47:24 ERROR dspy.utils.parallelizer: Error for Example({'headline': 'EnergyCo reports steady output, no new contracts.', 'fundamentals': 'P/E: 19, Rev Growth: 5%', 'market_conditions': 'VIX: 20 (moderate)', 'answer': 'Hold', 'rationale': 'Stable performance but no strong growth catalyst.'}) (input_keys={'fundamentals', 'headline', 'market_conditions'}): Both structured output format and JSON mode failed. Please choose a model that supports `response_format` argument. Original error: litellm.RateLimitError: RateLimitError: GroqException - {\"error\":{\"message\":\"Rate limit reached for model `meta-llama/llama-4-scout-17b-16e-instruct` in organization `org_01jynyvq87f3may0sgyx33aha2` service tier `on_demand` on requests per minute (RPM): Limit 30, Used 30, Requested 1. Please try again in 1.665s. Need more tokens? Upgrade to Dev Tier today at https://console.groq.com/settings/billing\",\"type\":\"requests\",\"code\":\"rate_limit_exceeded\"}}\n",
      ". Set `provide_traceback=True` for traceback.\n"
     ]
    },
    {
     "name": "stdout",
     "output_type": "stream",
     "text": [
      "Average Metric: 3.00 / 3 (100.0%):  40%|████      | 4/10 [00:06<00:13,  2.29s/it]"
     ]
    },
    {
     "name": "stderr",
     "output_type": "stream",
     "text": [
      "2025/07/19 04:47:24 ERROR dspy.utils.parallelizer: Error for Example({'headline': 'BankCo reports loan defaults rising slightly.', 'fundamentals': 'P/E: 22, Rev Growth: 3%', 'market_conditions': 'VIX: 21 (moderate)', 'answer': 'Sell', 'rationale': 'Rising defaults and modest growth suggest caution.'}) (input_keys={'fundamentals', 'headline', 'market_conditions'}): Both structured output format and JSON mode failed. Please choose a model that supports `response_format` argument. Original error: litellm.RateLimitError: RateLimitError: GroqException - {\"error\":{\"message\":\"Rate limit reached for model `meta-llama/llama-4-scout-17b-16e-instruct` in organization `org_01jynyvq87f3may0sgyx33aha2` service tier `on_demand` on requests per minute (RPM): Limit 30, Used 30, Requested 1. Please try again in 1.366s. Need more tokens? Upgrade to Dev Tier today at https://console.groq.com/settings/billing\",\"type\":\"requests\",\"code\":\"rate_limit_exceeded\"}}\n",
      ". Set `provide_traceback=True` for traceback.\n"
     ]
    },
    {
     "name": "stdout",
     "output_type": "stream",
     "text": [
      "Average Metric: 3.00 / 3 (100.0%):  60%|██████    | 6/10 [00:06<00:03,  1.19it/s]"
     ]
    },
    {
     "name": "stderr",
     "output_type": "stream",
     "text": [
      "2025/07/19 04:47:24 ERROR dspy.utils.parallelizer: Error for Example({'headline': 'PharmaCo faces lawsuit over drug side effects.', 'fundamentals': 'P/E: 28, Rev Growth: -4%', 'market_conditions': 'VIX: 24 (high)', 'answer': 'Sell', 'rationale': 'Legal risks and negative growth in volatile market.'}) (input_keys={'fundamentals', 'headline', 'market_conditions'}): Both structured output format and JSON mode failed. Please choose a model that supports `response_format` argument. Original error: litellm.RateLimitError: RateLimitError: GroqException - {\"error\":{\"message\":\"Rate limit reached for model `meta-llama/llama-4-scout-17b-16e-instruct` in organization `org_01jynyvq87f3may0sgyx33aha2` service tier `on_demand` on requests per minute (RPM): Limit 30, Used 30, Requested 1. Please try again in 1.296s. Need more tokens? Upgrade to Dev Tier today at https://console.groq.com/settings/billing\",\"type\":\"requests\",\"code\":\"rate_limit_exceeded\"}}\n",
      ". Set `provide_traceback=True` for traceback.\n"
     ]
    },
    {
     "name": "stdout",
     "output_type": "stream",
     "text": [
      "Average Metric: 3.00 / 3 (100.0%):  60%|██████    | 6/10 [00:06<00:03,  1.19it/s]"
     ]
    },
    {
     "name": "stderr",
     "output_type": "stream",
     "text": [
      "2025/07/19 04:47:24 ERROR dspy.utils.parallelizer: Error for Example({'headline': 'AutoCo ramps up EV production with new factory.', 'fundamentals': 'P/E: 20, Rev Growth: 12%', 'market_conditions': 'VIX: 16 (low)', 'answer': 'Buy', 'rationale': 'Increased production capacity in stable market is positive.'}) (input_keys={'fundamentals', 'headline', 'market_conditions'}): Both structured output format and JSON mode failed. Please choose a model that supports `response_format` argument. Original error: litellm.RateLimitError: RateLimitError: GroqException - {\"error\":{\"message\":\"Rate limit reached for model `meta-llama/llama-4-scout-17b-16e-instruct` in organization `org_01jynyvq87f3may0sgyx33aha2` service tier `on_demand` on requests per minute (RPM): Limit 30, Used 30, Requested 1. Please try again in 1.292s. Need more tokens? Upgrade to Dev Tier today at https://console.groq.com/settings/billing\",\"type\":\"requests\",\"code\":\"rate_limit_exceeded\"}}\n",
      ". Set `provide_traceback=True` for traceback.\n",
      "2025/07/19 04:47:24 ERROR dspy.utils.parallelizer: Error for Example({'headline': 'TechCorp unveils new AI chip, analysts optimistic.', 'fundamentals': 'P/E: 23, Rev Growth: 14%', 'market_conditions': 'VIX: 17 (low)', 'answer': 'Buy', 'rationale': 'Innovative product and strong fundamentals in stable market.'}) (input_keys={'fundamentals', 'headline', 'market_conditions'}): Both structured output format and JSON mode failed. Please choose a model that supports `response_format` argument. Original error: litellm.RateLimitError: RateLimitError: GroqException - {\"error\":{\"message\":\"Rate limit reached for model `meta-llama/llama-4-scout-17b-16e-instruct` in organization `org_01jynyvq87f3may0sgyx33aha2` service tier `on_demand` on requests per minute (RPM): Limit 30, Used 30, Requested 1. Please try again in 1.304s. Need more tokens? Upgrade to Dev Tier today at https://console.groq.com/settings/billing\",\"type\":\"requests\",\"code\":\"rate_limit_exceeded\"}}\n",
      ". Set `provide_traceback=True` for traceback.\n"
     ]
    },
    {
     "name": "stdout",
     "output_type": "stream",
     "text": [
      "Average Metric: 3.00 / 3 (100.0%):  90%|█████████ | 9/10 [00:06<00:00,  2.23it/s]"
     ]
    },
    {
     "name": "stderr",
     "output_type": "stream",
     "text": [
      "2025/07/19 04:47:25 WARNING dspy.adapters.json_adapter: Failed to use structured output format, falling back to JSON mode.\n"
     ]
    },
    {
     "name": "stdout",
     "output_type": "stream",
     "text": [
      "Average Metric: 4.00 / 4 (100.0%): 100%|██████████| 10/10 [00:08<00:00,  1.16it/s]"
     ]
    },
    {
     "name": "stderr",
     "output_type": "stream",
     "text": [
      "2025/07/19 04:47:26 INFO dspy.evaluate.evaluate: Average Metric: 4.0 / 10 (40.0%)\n",
      "2025/07/19 04:47:26 INFO dspy.teleprompt.mipro_optimizer_v2: \u001b[92mBest full score so far!\u001b[0m Score: 40.0\n",
      "2025/07/19 04:47:26 INFO dspy.teleprompt.mipro_optimizer_v2: Score: 40.0 with parameters ['Predictor 0: Instruction 1', 'Predictor 0: Few-Shot Set 5'].\n",
      "2025/07/19 04:47:26 INFO dspy.teleprompt.mipro_optimizer_v2: Scores so far: [30.0, 20.0, 30.0, 40.0]\n",
      "2025/07/19 04:47:26 INFO dspy.teleprompt.mipro_optimizer_v2: Best score so far: 40.0\n",
      "2025/07/19 04:47:26 INFO dspy.teleprompt.mipro_optimizer_v2: ========================\n",
      "\n",
      "\n",
      "2025/07/19 04:47:26 INFO dspy.teleprompt.mipro_optimizer_v2: ===== Trial 5 / 10 =====\n"
     ]
    },
    {
     "name": "stdout",
     "output_type": "stream",
     "text": [
      "\n",
      "  0%|          | 0/10 [00:00<?, ?it/s]"
     ]
    },
    {
     "name": "stderr",
     "output_type": "stream",
     "text": [
      "2025/07/19 04:47:29 WARNING dspy.adapters.json_adapter: Failed to use structured output format, falling back to JSON mode.\n",
      "2025/07/19 04:47:30 WARNING dspy.adapters.json_adapter: Failed to use structured output format, falling back to JSON mode.\n",
      "2025/07/19 04:47:30 WARNING dspy.adapters.json_adapter: Failed to use structured output format, falling back to JSON mode.\n",
      "2025/07/19 04:47:30 WARNING dspy.adapters.json_adapter: Failed to use structured output format, falling back to JSON mode.\n",
      "2025/07/19 04:47:30 WARNING dspy.adapters.json_adapter: Failed to use structured output format, falling back to JSON mode.\n",
      "2025/07/19 04:47:30 WARNING dspy.adapters.json_adapter: Failed to use structured output format, falling back to JSON mode.\n",
      "2025/07/19 04:47:30 WARNING dspy.adapters.json_adapter: Failed to use structured output format, falling back to JSON mode.\n"
     ]
    },
    {
     "name": "stdout",
     "output_type": "stream",
     "text": [
      "Average Metric: 1.00 / 1 (100.0%):  10%|█         | 1/10 [00:03<00:32,  3.58s/it]"
     ]
    },
    {
     "name": "stderr",
     "output_type": "stream",
     "text": [
      "2025/07/19 04:47:33 ERROR dspy.utils.parallelizer: Error for Example({'headline': 'AutoCo ramps up EV production with new factory.', 'fundamentals': 'P/E: 20, Rev Growth: 12%', 'market_conditions': 'VIX: 16 (low)', 'answer': 'Buy', 'rationale': 'Increased production capacity in stable market is positive.'}) (input_keys={'fundamentals', 'headline', 'market_conditions'}): Both structured output format and JSON mode failed. Please choose a model that supports `response_format` argument. Original error: litellm.RateLimitError: RateLimitError: GroqException - {\"error\":{\"message\":\"Rate limit reached for model `meta-llama/llama-4-scout-17b-16e-instruct` in organization `org_01jynyvq87f3may0sgyx33aha2` service tier `on_demand` on requests per minute (RPM): Limit 30, Used 30, Requested 1. Please try again in 1.983s. Need more tokens? Upgrade to Dev Tier today at https://console.groq.com/settings/billing\",\"type\":\"requests\",\"code\":\"rate_limit_exceeded\"}}\n",
      ". Set `provide_traceback=True` for traceback.\n"
     ]
    },
    {
     "name": "stdout",
     "output_type": "stream",
     "text": [
      "Average Metric: 1.00 / 1 (100.0%):  20%|██        | 2/10 [00:06<00:26,  3.31s/it]"
     ]
    },
    {
     "name": "stderr",
     "output_type": "stream",
     "text": [
      "2025/07/19 04:47:33 ERROR dspy.utils.parallelizer: Error for Example({'headline': 'PharmaCo halts trials due to funding issues.', 'fundamentals': 'P/E: 26, Rev Growth: -2%', 'market_conditions': 'VIX: 23 (high)', 'answer': 'Sell', 'rationale': 'Funding issues and high volatility pose significant risks.'}) (input_keys={'fundamentals', 'headline', 'market_conditions'}): Both structured output format and JSON mode failed. Please choose a model that supports `response_format` argument. Original error: litellm.RateLimitError: RateLimitError: GroqException - {\"error\":{\"message\":\"Rate limit reached for model `meta-llama/llama-4-scout-17b-16e-instruct` in organization `org_01jynyvq87f3may0sgyx33aha2` service tier `on_demand` on requests per minute (RPM): Limit 30, Used 30, Requested 1. Please try again in 1.947s. Need more tokens? Upgrade to Dev Tier today at https://console.groq.com/settings/billing\",\"type\":\"requests\",\"code\":\"rate_limit_exceeded\"}}\n",
      ". Set `provide_traceback=True` for traceback.\n"
     ]
    },
    {
     "name": "stdout",
     "output_type": "stream",
     "text": [
      "Average Metric: 1.00 / 1 (100.0%):  20%|██        | 2/10 [00:06<00:26,  3.31s/it]"
     ]
    },
    {
     "name": "stderr",
     "output_type": "stream",
     "text": [
      "2025/07/19 04:47:33 ERROR dspy.utils.parallelizer: Error for Example({'headline': 'RetailCo launches loyalty program, mixed reviews.', 'fundamentals': 'P/E: 21, Rev Growth: 6%', 'market_conditions': 'VIX: 19 (moderate)', 'answer': 'Hold', 'rationale': 'Loyalty program impact unclear, moderate market conditions.'}) (input_keys={'fundamentals', 'headline', 'market_conditions'}): Both structured output format and JSON mode failed. Please choose a model that supports `response_format` argument. Original error: litellm.RateLimitError: RateLimitError: GroqException - {\"error\":{\"message\":\"Rate limit reached for model `meta-llama/llama-4-scout-17b-16e-instruct` in organization `org_01jynyvq87f3may0sgyx33aha2` service tier `on_demand` on requests per minute (RPM): Limit 30, Used 30, Requested 1. Please try again in 1.851s. Need more tokens? Upgrade to Dev Tier today at https://console.groq.com/settings/billing\",\"type\":\"requests\",\"code\":\"rate_limit_exceeded\"}}\n",
      ". Set `provide_traceback=True` for traceback.\n"
     ]
    },
    {
     "name": "stdout",
     "output_type": "stream",
     "text": [
      "Average Metric: 1.00 / 1 (100.0%):  40%|████      | 4/10 [00:06<00:07,  1.27s/it]"
     ]
    },
    {
     "name": "stderr",
     "output_type": "stream",
     "text": [
      "2025/07/19 04:47:33 WARNING dspy.adapters.json_adapter: Failed to use structured output format, falling back to JSON mode.\n",
      "2025/07/19 04:47:33 ERROR dspy.utils.parallelizer: Error for Example({'headline': 'PharmaCo faces lawsuit over drug side effects.', 'fundamentals': 'P/E: 28, Rev Growth: -4%', 'market_conditions': 'VIX: 24 (high)', 'answer': 'Sell', 'rationale': 'Legal risks and negative growth in volatile market.'}) (input_keys={'fundamentals', 'headline', 'market_conditions'}): Both structured output format and JSON mode failed. Please choose a model that supports `response_format` argument. Original error: litellm.RateLimitError: RateLimitError: GroqException - {\"error\":{\"message\":\"Rate limit reached for model `meta-llama/llama-4-scout-17b-16e-instruct` in organization `org_01jynyvq87f3may0sgyx33aha2` service tier `on_demand` on requests per minute (RPM): Limit 30, Used 30, Requested 1. Please try again in 1.744s. Need more tokens? Upgrade to Dev Tier today at https://console.groq.com/settings/billing\",\"type\":\"requests\",\"code\":\"rate_limit_exceeded\"}}\n",
      ". Set `provide_traceback=True` for traceback.\n",
      "2025/07/19 04:47:33 ERROR dspy.utils.parallelizer: Error for Example({'headline': 'TechCorp unveils new AI chip, analysts optimistic.', 'fundamentals': 'P/E: 23, Rev Growth: 14%', 'market_conditions': 'VIX: 17 (low)', 'answer': 'Buy', 'rationale': 'Innovative product and strong fundamentals in stable market.'}) (input_keys={'fundamentals', 'headline', 'market_conditions'}): Both structured output format and JSON mode failed. Please choose a model that supports `response_format` argument. Original error: litellm.RateLimitError: RateLimitError: GroqException - {\"error\":{\"message\":\"Rate limit reached for model `meta-llama/llama-4-scout-17b-16e-instruct` in organization `org_01jynyvq87f3may0sgyx33aha2` service tier `on_demand` on requests per minute (RPM): Limit 30, Used 30, Requested 1. Please try again in 1.738999999s. Need more tokens? Upgrade to Dev Tier today at https://console.groq.com/settings/billing\",\"type\":\"requests\",\"code\":\"rate_limit_exceeded\"}}\n",
      ". Set `provide_traceback=True` for traceback.\n"
     ]
    },
    {
     "name": "stdout",
     "output_type": "stream",
     "text": [
      "Average Metric: 1.00 / 1 (100.0%):  40%|████      | 4/10 [00:06<00:07,  1.27s/it]"
     ]
    },
    {
     "name": "stderr",
     "output_type": "stream",
     "text": [
      "2025/07/19 04:47:33 ERROR dspy.utils.parallelizer: Error for Example({'headline': 'TechCorp expands cloud services, strong demand expected.', 'fundamentals': 'P/E: 24, Rev Growth: 10%', 'market_conditions': 'VIX: 18 (moderate)', 'answer': 'Buy', 'rationale': 'Cloud expansion aligns with demand in stable market.'}) (input_keys={'fundamentals', 'headline', 'market_conditions'}): Both structured output format and JSON mode failed. Please choose a model that supports `response_format` argument. Original error: litellm.RateLimitError: RateLimitError: GroqException - {\"error\":{\"message\":\"Rate limit reached for model `meta-llama/llama-4-scout-17b-16e-instruct` in organization `org_01jynyvq87f3may0sgyx33aha2` service tier `on_demand` on requests per minute (RPM): Limit 30, Used 30, Requested 1. Please try again in 1.737s. Need more tokens? Upgrade to Dev Tier today at https://console.groq.com/settings/billing\",\"type\":\"requests\",\"code\":\"rate_limit_exceeded\"}}\n",
      ". Set `provide_traceback=True` for traceback.\n"
     ]
    },
    {
     "name": "stdout",
     "output_type": "stream",
     "text": [
      "Average Metric: 1.00 / 2 (50.0%):  70%|███████   | 7/10 [00:07<00:02,  1.09it/s] "
     ]
    },
    {
     "name": "stderr",
     "output_type": "stream",
     "text": [
      "2025/07/19 04:47:36 ERROR dspy.utils.parallelizer: Error for Example({'headline': 'EnergyCo signs new solar project deal.', 'fundamentals': 'P/E: 18, Rev Growth: 8%', 'market_conditions': 'VIX: 17 (low)', 'answer': 'Buy', 'rationale': 'New deal and solid fundamentals in stable market.'}) (input_keys={'fundamentals', 'headline', 'market_conditions'}): Both structured output format and JSON mode failed. Please choose a model that supports `response_format` argument. Original error: litellm.RateLimitError: RateLimitError: GroqException - {\"error\":{\"message\":\"Rate limit reached for model `meta-llama/llama-4-scout-17b-16e-instruct` in organization `org_01jynyvq87f3may0sgyx33aha2` service tier `on_demand` on requests per minute (RPM): Limit 30, Used 30, Requested 1. Please try again in 1.795s. Need more tokens? Upgrade to Dev Tier today at https://console.groq.com/settings/billing\",\"type\":\"requests\",\"code\":\"rate_limit_exceeded\"}}\n",
      ". Set `provide_traceback=True` for traceback.\n"
     ]
    },
    {
     "name": "stdout",
     "output_type": "stream",
     "text": [
      "Average Metric: 2.00 / 3 (66.7%): 100%|██████████| 10/10 [00:10<00:00,  1.03s/it]"
     ]
    },
    {
     "name": "stderr",
     "output_type": "stream",
     "text": [
      "2025/07/19 04:47:36 INFO dspy.evaluate.evaluate: Average Metric: 2.0 / 10 (20.0%)\n",
      "2025/07/19 04:47:36 INFO dspy.teleprompt.mipro_optimizer_v2: Score: 20.0 with parameters ['Predictor 0: Instruction 2', 'Predictor 0: Few-Shot Set 2'].\n",
      "2025/07/19 04:47:36 INFO dspy.teleprompt.mipro_optimizer_v2: Scores so far: [30.0, 20.0, 30.0, 40.0, 20.0]\n",
      "2025/07/19 04:47:36 INFO dspy.teleprompt.mipro_optimizer_v2: Best score so far: 40.0\n",
      "2025/07/19 04:47:36 INFO dspy.teleprompt.mipro_optimizer_v2: ========================\n",
      "\n",
      "\n",
      "2025/07/19 04:47:36 INFO dspy.teleprompt.mipro_optimizer_v2: ===== Trial 6 / 10 =====\n"
     ]
    },
    {
     "name": "stdout",
     "output_type": "stream",
     "text": [
      "\n",
      "  0%|          | 0/10 [00:00<?, ?it/s]"
     ]
    },
    {
     "name": "stderr",
     "output_type": "stream",
     "text": [
      "2025/07/19 04:47:40 WARNING dspy.adapters.json_adapter: Failed to use structured output format, falling back to JSON mode.\n",
      "2025/07/19 04:47:40 WARNING dspy.adapters.json_adapter: Failed to use structured output format, falling back to JSON mode.\n",
      "2025/07/19 04:47:40 WARNING dspy.adapters.json_adapter: Failed to use structured output format, falling back to JSON mode.\n",
      "2025/07/19 04:47:40 WARNING dspy.adapters.json_adapter: Failed to use structured output format, falling back to JSON mode.\n",
      "2025/07/19 04:47:40 WARNING dspy.adapters.json_adapter: Failed to use structured output format, falling back to JSON mode.\n",
      "2025/07/19 04:47:40 WARNING dspy.adapters.json_adapter: Failed to use structured output format, falling back to JSON mode.\n",
      "2025/07/19 04:47:40 WARNING dspy.adapters.json_adapter: Failed to use structured output format, falling back to JSON mode.\n"
     ]
    },
    {
     "name": "stdout",
     "output_type": "stream",
     "text": [
      "Average Metric: 1.00 / 1 (100.0%):  10%|█         | 1/10 [00:03<00:32,  3.60s/it]"
     ]
    },
    {
     "name": "stderr",
     "output_type": "stream",
     "text": [
      "2025/07/19 04:47:43 ERROR dspy.utils.parallelizer: Error for Example({'headline': 'AutoCo ramps up EV production with new factory.', 'fundamentals': 'P/E: 20, Rev Growth: 12%', 'market_conditions': 'VIX: 16 (low)', 'answer': 'Buy', 'rationale': 'Increased production capacity in stable market is positive.'}) (input_keys={'fundamentals', 'headline', 'market_conditions'}): Both structured output format and JSON mode failed. Please choose a model that supports `response_format` argument. Original error: litellm.RateLimitError: RateLimitError: GroqException - {\"error\":{\"message\":\"Rate limit reached for model `meta-llama/llama-4-scout-17b-16e-instruct` in organization `org_01jynyvq87f3may0sgyx33aha2` service tier `on_demand` on requests per minute (RPM): Limit 30, Used 30, Requested 1. Please try again in 1.897s. Need more tokens? Upgrade to Dev Tier today at https://console.groq.com/settings/billing\",\"type\":\"requests\",\"code\":\"rate_limit_exceeded\"}}\n",
      ". Set `provide_traceback=True` for traceback.\n"
     ]
    },
    {
     "name": "stdout",
     "output_type": "stream",
     "text": [
      "Average Metric: 1.00 / 1 (100.0%):  20%|██        | 2/10 [00:06<00:25,  3.24s/it]"
     ]
    },
    {
     "name": "stderr",
     "output_type": "stream",
     "text": [
      "2025/07/19 04:47:43 ERROR dspy.utils.parallelizer: Error for Example({'headline': 'PharmaCo faces lawsuit over drug side effects.', 'fundamentals': 'P/E: 28, Rev Growth: -4%', 'market_conditions': 'VIX: 24 (high)', 'answer': 'Sell', 'rationale': 'Legal risks and negative growth in volatile market.'}) (input_keys={'fundamentals', 'headline', 'market_conditions'}): Both structured output format and JSON mode failed. Please choose a model that supports `response_format` argument. Original error: litellm.RateLimitError: RateLimitError: GroqException - {\"error\":{\"message\":\"Rate limit reached for model `meta-llama/llama-4-scout-17b-16e-instruct` in organization `org_01jynyvq87f3may0sgyx33aha2` service tier `on_demand` on requests per minute (RPM): Limit 30, Used 30, Requested 1. Please try again in 1.862s. Need more tokens? Upgrade to Dev Tier today at https://console.groq.com/settings/billing\",\"type\":\"requests\",\"code\":\"rate_limit_exceeded\"}}\n",
      ". Set `provide_traceback=True` for traceback.\n"
     ]
    },
    {
     "name": "stdout",
     "output_type": "stream",
     "text": [
      "Average Metric: 1.00 / 1 (100.0%):  20%|██        | 2/10 [00:06<00:25,  3.24s/it]"
     ]
    },
    {
     "name": "stderr",
     "output_type": "stream",
     "text": [
      "2025/07/19 04:47:43 ERROR dspy.utils.parallelizer: Error for Example({'headline': 'TechCorp unveils new AI chip, analysts optimistic.', 'fundamentals': 'P/E: 23, Rev Growth: 14%', 'market_conditions': 'VIX: 17 (low)', 'answer': 'Buy', 'rationale': 'Innovative product and strong fundamentals in stable market.'}) (input_keys={'fundamentals', 'headline', 'market_conditions'}): Both structured output format and JSON mode failed. Please choose a model that supports `response_format` argument. Original error: litellm.RateLimitError: RateLimitError: GroqException - {\"error\":{\"message\":\"Rate limit reached for model `meta-llama/llama-4-scout-17b-16e-instruct` in organization `org_01jynyvq87f3may0sgyx33aha2` service tier `on_demand` on requests per minute (RPM): Limit 30, Used 30, Requested 1. Please try again in 1.853s. Need more tokens? Upgrade to Dev Tier today at https://console.groq.com/settings/billing\",\"type\":\"requests\",\"code\":\"rate_limit_exceeded\"}}\n",
      ". Set `provide_traceback=True` for traceback.\n"
     ]
    },
    {
     "name": "stdout",
     "output_type": "stream",
     "text": [
      "Average Metric: 1.00 / 1 (100.0%):  30%|███       | 3/10 [00:06<00:22,  3.24s/it]"
     ]
    },
    {
     "name": "stderr",
     "output_type": "stream",
     "text": [
      "2025/07/19 04:47:43 ERROR dspy.utils.parallelizer: Error for Example({'headline': 'TechCorp expands cloud services, strong demand expected.', 'fundamentals': 'P/E: 24, Rev Growth: 10%', 'market_conditions': 'VIX: 18 (moderate)', 'answer': 'Buy', 'rationale': 'Cloud expansion aligns with demand in stable market.'}) (input_keys={'fundamentals', 'headline', 'market_conditions'}): Both structured output format and JSON mode failed. Please choose a model that supports `response_format` argument. Original error: litellm.RateLimitError: RateLimitError: GroqException - {\"error\":{\"message\":\"Rate limit reached for model `meta-llama/llama-4-scout-17b-16e-instruct` in organization `org_01jynyvq87f3may0sgyx33aha2` service tier `on_demand` on requests per minute (RPM): Limit 30, Used 30, Requested 1. Please try again in 1.745s. Need more tokens? Upgrade to Dev Tier today at https://console.groq.com/settings/billing\",\"type\":\"requests\",\"code\":\"rate_limit_exceeded\"}}\n",
      ". Set `provide_traceback=True` for traceback.\n"
     ]
    },
    {
     "name": "stdout",
     "output_type": "stream",
     "text": [
      "Average Metric: 1.00 / 1 (100.0%):  50%|█████     | 5/10 [00:06<00:04,  1.05it/s]"
     ]
    },
    {
     "name": "stderr",
     "output_type": "stream",
     "text": [
      "2025/07/19 04:47:43 ERROR dspy.utils.parallelizer: Error for Example({'headline': 'RetailCo launches loyalty program, mixed reviews.', 'fundamentals': 'P/E: 21, Rev Growth: 6%', 'market_conditions': 'VIX: 19 (moderate)', 'answer': 'Hold', 'rationale': 'Loyalty program impact unclear, moderate market conditions.'}) (input_keys={'fundamentals', 'headline', 'market_conditions'}): Both structured output format and JSON mode failed. Please choose a model that supports `response_format` argument. Original error: litellm.RateLimitError: RateLimitError: GroqException - {\"error\":{\"message\":\"Rate limit reached for model `meta-llama/llama-4-scout-17b-16e-instruct` in organization `org_01jynyvq87f3may0sgyx33aha2` service tier `on_demand` on requests per minute (RPM): Limit 30, Used 30, Requested 1. Please try again in 1.714s. Need more tokens? Upgrade to Dev Tier today at https://console.groq.com/settings/billing\",\"type\":\"requests\",\"code\":\"rate_limit_exceeded\"}}\n",
      ". Set `provide_traceback=True` for traceback.\n"
     ]
    },
    {
     "name": "stdout",
     "output_type": "stream",
     "text": [
      "Average Metric: 1.00 / 1 (100.0%):  50%|█████     | 5/10 [00:06<00:04,  1.05it/s]"
     ]
    },
    {
     "name": "stderr",
     "output_type": "stream",
     "text": [
      "2025/07/19 04:47:43 ERROR dspy.utils.parallelizer: Error for Example({'headline': 'EnergyCo reports steady output, no new contracts.', 'fundamentals': 'P/E: 19, Rev Growth: 5%', 'market_conditions': 'VIX: 20 (moderate)', 'answer': 'Hold', 'rationale': 'Stable performance but no strong growth catalyst.'}) (input_keys={'fundamentals', 'headline', 'market_conditions'}): Both structured output format and JSON mode failed. Please choose a model that supports `response_format` argument. Original error: litellm.RateLimitError: RateLimitError: GroqException - {\"error\":{\"message\":\"Rate limit reached for model `meta-llama/llama-4-scout-17b-16e-instruct` in organization `org_01jynyvq87f3may0sgyx33aha2` service tier `on_demand` on requests per minute (RPM): Limit 30, Used 30, Requested 1. Please try again in 1.709s. Need more tokens? Upgrade to Dev Tier today at https://console.groq.com/settings/billing\",\"type\":\"requests\",\"code\":\"rate_limit_exceeded\"}}\n",
      ". Set `provide_traceback=True` for traceback.\n"
     ]
    },
    {
     "name": "stdout",
     "output_type": "stream",
     "text": [
      "Average Metric: 1.00 / 1 (100.0%):  60%|██████    | 6/10 [00:06<00:03,  1.05it/s]"
     ]
    },
    {
     "name": "stderr",
     "output_type": "stream",
     "text": [
      "2025/07/19 04:47:43 WARNING dspy.adapters.json_adapter: Failed to use structured output format, falling back to JSON mode.\n"
     ]
    },
    {
     "name": "stdout",
     "output_type": "stream",
     "text": [
      "Average Metric: 1.00 / 2 (50.0%):  80%|████████  | 8/10 [00:06<00:00,  2.04it/s] "
     ]
    },
    {
     "name": "stderr",
     "output_type": "stream",
     "text": [
      "2025/07/19 04:47:47 ERROR dspy.utils.parallelizer: Error for Example({'headline': 'EnergyCo signs new solar project deal.', 'fundamentals': 'P/E: 18, Rev Growth: 8%', 'market_conditions': 'VIX: 17 (low)', 'answer': 'Buy', 'rationale': 'New deal and solid fundamentals in stable market.'}) (input_keys={'fundamentals', 'headline', 'market_conditions'}): Both structured output format and JSON mode failed. Please choose a model that supports `response_format` argument. Original error: litellm.RateLimitError: RateLimitError: GroqException - {\"error\":{\"message\":\"Rate limit reached for model `meta-llama/llama-4-scout-17b-16e-instruct` in organization `org_01jynyvq87f3may0sgyx33aha2` service tier `on_demand` on requests per minute (RPM): Limit 30, Used 30, Requested 1. Please try again in 1.75s. Need more tokens? Upgrade to Dev Tier today at https://console.groq.com/settings/billing\",\"type\":\"requests\",\"code\":\"rate_limit_exceeded\"}}\n",
      ". Set `provide_traceback=True` for traceback.\n"
     ]
    },
    {
     "name": "stdout",
     "output_type": "stream",
     "text": [
      "Average Metric: 2.00 / 3 (66.7%): 100%|██████████| 10/10 [00:10<00:00,  1.02s/it]"
     ]
    },
    {
     "name": "stderr",
     "output_type": "stream",
     "text": [
      "2025/07/19 04:47:47 INFO dspy.evaluate.evaluate: Average Metric: 2.0 / 10 (20.0%)\n",
      "2025/07/19 04:47:47 INFO dspy.teleprompt.mipro_optimizer_v2: Score: 20.0 with parameters ['Predictor 0: Instruction 0', 'Predictor 0: Few-Shot Set 5'].\n",
      "2025/07/19 04:47:47 INFO dspy.teleprompt.mipro_optimizer_v2: Scores so far: [30.0, 20.0, 30.0, 40.0, 20.0, 20.0]\n",
      "2025/07/19 04:47:47 INFO dspy.teleprompt.mipro_optimizer_v2: Best score so far: 40.0\n",
      "2025/07/19 04:47:47 INFO dspy.teleprompt.mipro_optimizer_v2: ========================\n",
      "\n",
      "\n",
      "2025/07/19 04:47:47 INFO dspy.teleprompt.mipro_optimizer_v2: ===== Trial 7 / 10 =====\n"
     ]
    },
    {
     "name": "stdout",
     "output_type": "stream",
     "text": [
      "\n",
      "Average Metric: 1.00 / 1 (100.0%):   0%|          | 0/10 [00:00<?, ?it/s]"
     ]
    },
    {
     "name": "stderr",
     "output_type": "stream",
     "text": [
      "2025/07/19 04:47:50 WARNING dspy.adapters.json_adapter: Failed to use structured output format, falling back to JSON mode.\n",
      "2025/07/19 04:47:50 WARNING dspy.adapters.json_adapter: Failed to use structured output format, falling back to JSON mode.\n",
      "2025/07/19 04:47:50 WARNING dspy.adapters.json_adapter: Failed to use structured output format, falling back to JSON mode.\n"
     ]
    },
    {
     "name": "stdout",
     "output_type": "stream",
     "text": [
      "Average Metric: 3.00 / 3 (100.0%):  20%|██        | 2/10 [00:03<00:13,  1.65s/it]"
     ]
    },
    {
     "name": "stderr",
     "output_type": "stream",
     "text": [
      "2025/07/19 04:47:50 WARNING dspy.adapters.json_adapter: Failed to use structured output format, falling back to JSON mode.\n",
      "2025/07/19 04:47:50 WARNING dspy.adapters.json_adapter: Failed to use structured output format, falling back to JSON mode.\n",
      "2025/07/19 04:47:50 WARNING dspy.adapters.json_adapter: Failed to use structured output format, falling back to JSON mode.\n",
      "2025/07/19 04:47:50 WARNING dspy.adapters.json_adapter: Failed to use structured output format, falling back to JSON mode.\n"
     ]
    },
    {
     "name": "stdout",
     "output_type": "stream",
     "text": [
      "Average Metric: 4.00 / 4 (100.0%):  40%|████      | 4/10 [00:03<00:04,  1.23it/s]"
     ]
    },
    {
     "name": "stderr",
     "output_type": "stream",
     "text": [
      "2025/07/19 04:47:53 ERROR dspy.utils.parallelizer: Error for Example({'headline': 'PharmaCo faces lawsuit over drug side effects.', 'fundamentals': 'P/E: 28, Rev Growth: -4%', 'market_conditions': 'VIX: 24 (high)', 'answer': 'Sell', 'rationale': 'Legal risks and negative growth in volatile market.'}) (input_keys={'fundamentals', 'headline', 'market_conditions'}): Both structured output format and JSON mode failed. Please choose a model that supports `response_format` argument. Original error: litellm.RateLimitError: RateLimitError: GroqException - {\"error\":{\"message\":\"Rate limit reached for model `meta-llama/llama-4-scout-17b-16e-instruct` in organization `org_01jynyvq87f3may0sgyx33aha2` service tier `on_demand` on requests per minute (RPM): Limit 30, Used 30, Requested 1. Please try again in 1.979s. Need more tokens? Upgrade to Dev Tier today at https://console.groq.com/settings/billing\",\"type\":\"requests\",\"code\":\"rate_limit_exceeded\"}}\n",
      ". Set `provide_traceback=True` for traceback.\n"
     ]
    },
    {
     "name": "stdout",
     "output_type": "stream",
     "text": [
      "Average Metric: 4.00 / 4 (100.0%):  50%|█████     | 5/10 [00:06<00:07,  1.41s/it]"
     ]
    },
    {
     "name": "stderr",
     "output_type": "stream",
     "text": [
      "2025/07/19 04:47:53 ERROR dspy.utils.parallelizer: Error for Example({'headline': 'TechCorp expands cloud services, strong demand expected.', 'fundamentals': 'P/E: 24, Rev Growth: 10%', 'market_conditions': 'VIX: 18 (moderate)', 'answer': 'Buy', 'rationale': 'Cloud expansion aligns with demand in stable market.'}) (input_keys={'fundamentals', 'headline', 'market_conditions'}): Both structured output format and JSON mode failed. Please choose a model that supports `response_format` argument. Original error: litellm.RateLimitError: RateLimitError: GroqException - {\"error\":{\"message\":\"Rate limit reached for model `meta-llama/llama-4-scout-17b-16e-instruct` in organization `org_01jynyvq87f3may0sgyx33aha2` service tier `on_demand` on requests per minute (RPM): Limit 30, Used 30, Requested 1. Please try again in 1.914s. Need more tokens? Upgrade to Dev Tier today at https://console.groq.com/settings/billing\",\"type\":\"requests\",\"code\":\"rate_limit_exceeded\"}}\n",
      ". Set `provide_traceback=True` for traceback.\n"
     ]
    },
    {
     "name": "stdout",
     "output_type": "stream",
     "text": [
      "Average Metric: 4.00 / 4 (100.0%):  50%|█████     | 5/10 [00:06<00:07,  1.41s/it]"
     ]
    },
    {
     "name": "stderr",
     "output_type": "stream",
     "text": [
      "2025/07/19 04:47:53 ERROR dspy.utils.parallelizer: Error for Example({'headline': 'RetailCo launches loyalty program, mixed reviews.', 'fundamentals': 'P/E: 21, Rev Growth: 6%', 'market_conditions': 'VIX: 19 (moderate)', 'answer': 'Hold', 'rationale': 'Loyalty program impact unclear, moderate market conditions.'}) (input_keys={'fundamentals', 'headline', 'market_conditions'}): Both structured output format and JSON mode failed. Please choose a model that supports `response_format` argument. Original error: litellm.RateLimitError: RateLimitError: GroqException - {\"error\":{\"message\":\"Rate limit reached for model `meta-llama/llama-4-scout-17b-16e-instruct` in organization `org_01jynyvq87f3may0sgyx33aha2` service tier `on_demand` on requests per minute (RPM): Limit 30, Used 30, Requested 1. Please try again in 1.887s. Need more tokens? Upgrade to Dev Tier today at https://console.groq.com/settings/billing\",\"type\":\"requests\",\"code\":\"rate_limit_exceeded\"}}\n",
      ". Set `provide_traceback=True` for traceback.\n"
     ]
    },
    {
     "name": "stdout",
     "output_type": "stream",
     "text": [
      "Average Metric: 4.00 / 4 (100.0%):  60%|██████    | 6/10 [00:06<00:05,  1.41s/it]"
     ]
    },
    {
     "name": "stderr",
     "output_type": "stream",
     "text": [
      "2025/07/19 04:47:53 ERROR dspy.utils.parallelizer: Error for Example({'headline': 'TechCorp unveils new AI chip, analysts optimistic.', 'fundamentals': 'P/E: 23, Rev Growth: 14%', 'market_conditions': 'VIX: 17 (low)', 'answer': 'Buy', 'rationale': 'Innovative product and strong fundamentals in stable market.'}) (input_keys={'fundamentals', 'headline', 'market_conditions'}): Both structured output format and JSON mode failed. Please choose a model that supports `response_format` argument. Original error: litellm.RateLimitError: RateLimitError: GroqException - {\"error\":{\"message\":\"Rate limit reached for model `meta-llama/llama-4-scout-17b-16e-instruct` in organization `org_01jynyvq87f3may0sgyx33aha2` service tier `on_demand` on requests per minute (RPM): Limit 30, Used 30, Requested 1. Please try again in 1.841s. Need more tokens? Upgrade to Dev Tier today at https://console.groq.com/settings/billing\",\"type\":\"requests\",\"code\":\"rate_limit_exceeded\"}}\n",
      ". Set `provide_traceback=True` for traceback.\n"
     ]
    },
    {
     "name": "stdout",
     "output_type": "stream",
     "text": [
      "Average Metric: 4.00 / 4 (100.0%):  80%|████████  | 8/10 [00:06<00:01,  1.55it/s]"
     ]
    },
    {
     "name": "stderr",
     "output_type": "stream",
     "text": [
      "2025/07/19 04:47:53 ERROR dspy.utils.parallelizer: Error for Example({'headline': 'EnergyCo signs new solar project deal.', 'fundamentals': 'P/E: 18, Rev Growth: 8%', 'market_conditions': 'VIX: 17 (low)', 'answer': 'Buy', 'rationale': 'New deal and solid fundamentals in stable market.'}) (input_keys={'fundamentals', 'headline', 'market_conditions'}): Both structured output format and JSON mode failed. Please choose a model that supports `response_format` argument. Original error: litellm.RateLimitError: RateLimitError: GroqException - {\"error\":{\"message\":\"Rate limit reached for model `meta-llama/llama-4-scout-17b-16e-instruct` in organization `org_01jynyvq87f3may0sgyx33aha2` service tier `on_demand` on requests per minute (RPM): Limit 30, Used 30, Requested 1. Please try again in 1.827s. Need more tokens? Upgrade to Dev Tier today at https://console.groq.com/settings/billing\",\"type\":\"requests\",\"code\":\"rate_limit_exceeded\"}}\n",
      ". Set `provide_traceback=True` for traceback.\n"
     ]
    },
    {
     "name": "stdout",
     "output_type": "stream",
     "text": [
      "Average Metric: 4.00 / 5 (80.0%): 100%|██████████| 10/10 [00:07<00:00,  1.42it/s]"
     ]
    },
    {
     "name": "stderr",
     "output_type": "stream",
     "text": [
      "2025/07/19 04:47:54 INFO dspy.evaluate.evaluate: Average Metric: 4.0 / 10 (40.0%)\n",
      "2025/07/19 04:47:54 INFO dspy.teleprompt.mipro_optimizer_v2: Score: 40.0 with parameters ['Predictor 0: Instruction 2', 'Predictor 0: Few-Shot Set 0'].\n",
      "2025/07/19 04:47:54 INFO dspy.teleprompt.mipro_optimizer_v2: Scores so far: [30.0, 20.0, 30.0, 40.0, 20.0, 20.0, 40.0]\n",
      "2025/07/19 04:47:54 INFO dspy.teleprompt.mipro_optimizer_v2: Best score so far: 40.0\n",
      "2025/07/19 04:47:54 INFO dspy.teleprompt.mipro_optimizer_v2: ========================\n",
      "\n",
      "\n",
      "2025/07/19 04:47:54 INFO dspy.teleprompt.mipro_optimizer_v2: ===== Trial 8 / 10 =====\n"
     ]
    },
    {
     "name": "stdout",
     "output_type": "stream",
     "text": [
      "\n",
      "  0%|          | 0/10 [00:00<?, ?it/s]"
     ]
    },
    {
     "name": "stderr",
     "output_type": "stream",
     "text": [
      "2025/07/19 04:47:57 WARNING dspy.adapters.json_adapter: Failed to use structured output format, falling back to JSON mode.\n",
      "2025/07/19 04:47:57 WARNING dspy.adapters.json_adapter: Failed to use structured output format, falling back to JSON mode.\n",
      "2025/07/19 04:47:57 WARNING dspy.adapters.json_adapter: Failed to use structured output format, falling back to JSON mode.\n",
      "2025/07/19 04:47:57 WARNING dspy.adapters.json_adapter: Failed to use structured output format, falling back to JSON mode.\n",
      "2025/07/19 04:47:57 WARNING dspy.adapters.json_adapter: Failed to use structured output format, falling back to JSON mode.\n",
      "2025/07/19 04:47:57 WARNING dspy.adapters.json_adapter: Failed to use structured output format, falling back to JSON mode.\n",
      "2025/07/19 04:47:57 WARNING dspy.adapters.json_adapter: Failed to use structured output format, falling back to JSON mode.\n"
     ]
    },
    {
     "name": "stdout",
     "output_type": "stream",
     "text": [
      "Average Metric: 0.00 / 1 (0.0%):  10%|█         | 1/10 [00:03<00:32,  3.60s/it]"
     ]
    },
    {
     "name": "stderr",
     "output_type": "stream",
     "text": [
      "2025/07/19 04:48:00 ERROR dspy.utils.parallelizer: Error for Example({'headline': 'EnergyCo reports steady output, no new contracts.', 'fundamentals': 'P/E: 19, Rev Growth: 5%', 'market_conditions': 'VIX: 20 (moderate)', 'answer': 'Hold', 'rationale': 'Stable performance but no strong growth catalyst.'}) (input_keys={'fundamentals', 'headline', 'market_conditions'}): Both structured output format and JSON mode failed. Please choose a model that supports `response_format` argument. Original error: litellm.RateLimitError: RateLimitError: GroqException - {\"error\":{\"message\":\"Rate limit reached for model `meta-llama/llama-4-scout-17b-16e-instruct` in organization `org_01jynyvq87f3may0sgyx33aha2` service tier `on_demand` on requests per minute (RPM): Limit 30, Used 30, Requested 1. Please try again in 1.934s. Need more tokens? Upgrade to Dev Tier today at https://console.groq.com/settings/billing\",\"type\":\"requests\",\"code\":\"rate_limit_exceeded\"}}\n",
      ". Set `provide_traceback=True` for traceback.\n"
     ]
    },
    {
     "name": "stdout",
     "output_type": "stream",
     "text": [
      "Average Metric: 0.00 / 1 (0.0%):  20%|██        | 2/10 [00:06<00:26,  3.27s/it]"
     ]
    },
    {
     "name": "stderr",
     "output_type": "stream",
     "text": [
      "2025/07/19 04:48:00 ERROR dspy.utils.parallelizer: Error for Example({'headline': 'TechCorp unveils new AI chip, analysts optimistic.', 'fundamentals': 'P/E: 23, Rev Growth: 14%', 'market_conditions': 'VIX: 17 (low)', 'answer': 'Buy', 'rationale': 'Innovative product and strong fundamentals in stable market.'}) (input_keys={'fundamentals', 'headline', 'market_conditions'}): Both structured output format and JSON mode failed. Please choose a model that supports `response_format` argument. Original error: litellm.RateLimitError: RateLimitError: GroqException - {\"error\":{\"message\":\"Rate limit reached for model `meta-llama/llama-4-scout-17b-16e-instruct` in organization `org_01jynyvq87f3may0sgyx33aha2` service tier `on_demand` on requests per minute (RPM): Limit 30, Used 30, Requested 1. Please try again in 1.928s. Need more tokens? Upgrade to Dev Tier today at https://console.groq.com/settings/billing\",\"type\":\"requests\",\"code\":\"rate_limit_exceeded\"}}\n",
      ". Set `provide_traceback=True` for traceback.\n",
      "2025/07/19 04:48:00 ERROR dspy.utils.parallelizer: Error for Example({'headline': 'PharmaCo faces lawsuit over drug side effects.', 'fundamentals': 'P/E: 28, Rev Growth: -4%', 'market_conditions': 'VIX: 24 (high)', 'answer': 'Sell', 'rationale': 'Legal risks and negative growth in volatile market.'}) (input_keys={'fundamentals', 'headline', 'market_conditions'}): Both structured output format and JSON mode failed. Please choose a model that supports `response_format` argument. Original error: litellm.RateLimitError: RateLimitError: GroqException - {\"error\":{\"message\":\"Rate limit reached for model `meta-llama/llama-4-scout-17b-16e-instruct` in organization `org_01jynyvq87f3may0sgyx33aha2` service tier `on_demand` on requests per minute (RPM): Limit 30, Used 30, Requested 1. Please try again in 1.899s. Need more tokens? Upgrade to Dev Tier today at https://console.groq.com/settings/billing\",\"type\":\"requests\",\"code\":\"rate_limit_exceeded\"}}\n",
      ". Set `provide_traceback=True` for traceback.\n"
     ]
    },
    {
     "name": "stdout",
     "output_type": "stream",
     "text": [
      "Average Metric: 0.00 / 1 (0.0%):  30%|███       | 3/10 [00:06<00:22,  3.27s/it]"
     ]
    },
    {
     "name": "stderr",
     "output_type": "stream",
     "text": [
      "2025/07/19 04:48:00 ERROR dspy.utils.parallelizer: Error for Example({'headline': 'AutoCo ramps up EV production with new factory.', 'fundamentals': 'P/E: 20, Rev Growth: 12%', 'market_conditions': 'VIX: 16 (low)', 'answer': 'Buy', 'rationale': 'Increased production capacity in stable market is positive.'}) (input_keys={'fundamentals', 'headline', 'market_conditions'}): Both structured output format and JSON mode failed. Please choose a model that supports `response_format` argument. Original error: litellm.RateLimitError: RateLimitError: GroqException - {\"error\":{\"message\":\"Rate limit reached for model `meta-llama/llama-4-scout-17b-16e-instruct` in organization `org_01jynyvq87f3may0sgyx33aha2` service tier `on_demand` on requests per minute (RPM): Limit 30, Used 30, Requested 1. Please try again in 1.861s. Need more tokens? Upgrade to Dev Tier today at https://console.groq.com/settings/billing\",\"type\":\"requests\",\"code\":\"rate_limit_exceeded\"}}\n",
      ". Set `provide_traceback=True` for traceback.\n"
     ]
    },
    {
     "name": "stdout",
     "output_type": "stream",
     "text": [
      "Average Metric: 0.00 / 1 (0.0%):  40%|████      | 4/10 [00:06<00:19,  3.27s/it]"
     ]
    },
    {
     "name": "stderr",
     "output_type": "stream",
     "text": [
      "2025/07/19 04:48:01 ERROR dspy.utils.parallelizer: Error for Example({'headline': 'TechCorp expands cloud services, strong demand expected.', 'fundamentals': 'P/E: 24, Rev Growth: 10%', 'market_conditions': 'VIX: 18 (moderate)', 'answer': 'Buy', 'rationale': 'Cloud expansion aligns with demand in stable market.'}) (input_keys={'fundamentals', 'headline', 'market_conditions'}): Both structured output format and JSON mode failed. Please choose a model that supports `response_format` argument. Original error: litellm.RateLimitError: RateLimitError: GroqException - {\"error\":{\"message\":\"Rate limit reached for model `meta-llama/llama-4-scout-17b-16e-instruct` in organization `org_01jynyvq87f3may0sgyx33aha2` service tier `on_demand` on requests per minute (RPM): Limit 30, Used 30, Requested 1. Please try again in 1.832s. Need more tokens? Upgrade to Dev Tier today at https://console.groq.com/settings/billing\",\"type\":\"requests\",\"code\":\"rate_limit_exceeded\"}}\n",
      ". Set `provide_traceback=True` for traceback.\n",
      "2025/07/19 04:48:01 ERROR dspy.utils.parallelizer: Error for Example({'headline': 'PharmaCo halts trials due to funding issues.', 'fundamentals': 'P/E: 26, Rev Growth: -2%', 'market_conditions': 'VIX: 23 (high)', 'answer': 'Sell', 'rationale': 'Funding issues and high volatility pose significant risks.'}) (input_keys={'fundamentals', 'headline', 'market_conditions'}): Both structured output format and JSON mode failed. Please choose a model that supports `response_format` argument. Original error: litellm.RateLimitError: RateLimitError: GroqException - {\"error\":{\"message\":\"Rate limit reached for model `meta-llama/llama-4-scout-17b-16e-instruct` in organization `org_01jynyvq87f3may0sgyx33aha2` service tier `on_demand` on requests per minute (RPM): Limit 30, Used 30, Requested 1. Please try again in 1.827s. Need more tokens? Upgrade to Dev Tier today at https://console.groq.com/settings/billing\",\"type\":\"requests\",\"code\":\"rate_limit_exceeded\"}}\n",
      ". Set `provide_traceback=True` for traceback.\n"
     ]
    },
    {
     "name": "stdout",
     "output_type": "stream",
     "text": [
      "Average Metric: 0.00 / 1 (0.0%):  60%|██████    | 6/10 [00:06<00:13,  3.27s/it]"
     ]
    },
    {
     "name": "stderr",
     "output_type": "stream",
     "text": [
      "2025/07/19 04:48:01 WARNING dspy.adapters.json_adapter: Failed to use structured output format, falling back to JSON mode.\n"
     ]
    },
    {
     "name": "stdout",
     "output_type": "stream",
     "text": [
      "Average Metric: 1.00 / 2 (50.0%):  80%|████████  | 8/10 [00:06<00:01,  1.75it/s]"
     ]
    },
    {
     "name": "stderr",
     "output_type": "stream",
     "text": [
      "2025/07/19 04:48:04 ERROR dspy.utils.parallelizer: Error for Example({'headline': 'EnergyCo signs new solar project deal.', 'fundamentals': 'P/E: 18, Rev Growth: 8%', 'market_conditions': 'VIX: 17 (low)', 'answer': 'Buy', 'rationale': 'New deal and solid fundamentals in stable market.'}) (input_keys={'fundamentals', 'headline', 'market_conditions'}): Both structured output format and JSON mode failed. Please choose a model that supports `response_format` argument. Original error: litellm.RateLimitError: RateLimitError: GroqException - {\"error\":{\"message\":\"Rate limit reached for model `meta-llama/llama-4-scout-17b-16e-instruct` in organization `org_01jynyvq87f3may0sgyx33aha2` service tier `on_demand` on requests per minute (RPM): Limit 30, Used 30, Requested 1. Please try again in 1.815s. Need more tokens? Upgrade to Dev Tier today at https://console.groq.com/settings/billing\",\"type\":\"requests\",\"code\":\"rate_limit_exceeded\"}}\n",
      ". Set `provide_traceback=True` for traceback.\n"
     ]
    },
    {
     "name": "stdout",
     "output_type": "stream",
     "text": [
      "Average Metric: 2.00 / 3 (66.7%): 100%|██████████| 10/10 [00:10<00:00,  1.03s/it]"
     ]
    },
    {
     "name": "stderr",
     "output_type": "stream",
     "text": [
      "2025/07/19 04:48:04 INFO dspy.evaluate.evaluate: Average Metric: 2.0 / 10 (20.0%)\n",
      "2025/07/19 04:48:04 INFO dspy.teleprompt.mipro_optimizer_v2: Score: 20.0 with parameters ['Predictor 0: Instruction 2', 'Predictor 0: Few-Shot Set 5'].\n",
      "2025/07/19 04:48:04 INFO dspy.teleprompt.mipro_optimizer_v2: Scores so far: [30.0, 20.0, 30.0, 40.0, 20.0, 20.0, 40.0, 20.0]\n",
      "2025/07/19 04:48:04 INFO dspy.teleprompt.mipro_optimizer_v2: Best score so far: 40.0\n",
      "2025/07/19 04:48:04 INFO dspy.teleprompt.mipro_optimizer_v2: ========================\n",
      "\n",
      "\n",
      "2025/07/19 04:48:04 INFO dspy.teleprompt.mipro_optimizer_v2: ===== Trial 9 / 10 =====\n"
     ]
    },
    {
     "name": "stdout",
     "output_type": "stream",
     "text": [
      "\n",
      "  0%|          | 0/10 [00:00<?, ?it/s]"
     ]
    },
    {
     "name": "stderr",
     "output_type": "stream",
     "text": [
      "2025/07/19 04:48:07 WARNING dspy.adapters.json_adapter: Failed to use structured output format, falling back to JSON mode.\n",
      "2025/07/19 04:48:07 WARNING dspy.adapters.json_adapter: Failed to use structured output format, falling back to JSON mode.\n",
      "2025/07/19 04:48:07 WARNING dspy.adapters.json_adapter: Failed to use structured output format, falling back to JSON mode.\n",
      "2025/07/19 04:48:07 WARNING dspy.adapters.json_adapter: Failed to use structured output format, falling back to JSON mode.\n",
      "2025/07/19 04:48:07 WARNING dspy.adapters.json_adapter: Failed to use structured output format, falling back to JSON mode.\n",
      "2025/07/19 04:48:07 WARNING dspy.adapters.json_adapter: Failed to use structured output format, falling back to JSON mode.\n",
      "2025/07/19 04:48:07 WARNING dspy.adapters.json_adapter: Failed to use structured output format, falling back to JSON mode.\n"
     ]
    },
    {
     "name": "stdout",
     "output_type": "stream",
     "text": [
      "Average Metric: 1.00 / 1 (100.0%):  10%|█         | 1/10 [00:03<00:32,  3.63s/it]"
     ]
    },
    {
     "name": "stderr",
     "output_type": "stream",
     "text": [
      "2025/07/19 04:48:11 ERROR dspy.utils.parallelizer: Error for Example({'headline': 'EnergyCo reports steady output, no new contracts.', 'fundamentals': 'P/E: 19, Rev Growth: 5%', 'market_conditions': 'VIX: 20 (moderate)', 'answer': 'Hold', 'rationale': 'Stable performance but no strong growth catalyst.'}) (input_keys={'fundamentals', 'headline', 'market_conditions'}): Both structured output format and JSON mode failed. Please choose a model that supports `response_format` argument. Original error: litellm.RateLimitError: RateLimitError: GroqException - {\"error\":{\"message\":\"Rate limit reached for model `meta-llama/llama-4-scout-17b-16e-instruct` in organization `org_01jynyvq87f3may0sgyx33aha2` service tier `on_demand` on requests per minute (RPM): Limit 30, Used 30, Requested 1. Please try again in 1.892s. Need more tokens? Upgrade to Dev Tier today at https://console.groq.com/settings/billing\",\"type\":\"requests\",\"code\":\"rate_limit_exceeded\"}}\n",
      ". Set `provide_traceback=True` for traceback.\n",
      "2025/07/19 04:48:11 ERROR dspy.utils.parallelizer: Error for Example({'headline': 'PharmaCo faces lawsuit over drug side effects.', 'fundamentals': 'P/E: 28, Rev Growth: -4%', 'market_conditions': 'VIX: 24 (high)', 'answer': 'Sell', 'rationale': 'Legal risks and negative growth in volatile market.'}) (input_keys={'fundamentals', 'headline', 'market_conditions'}): Both structured output format and JSON mode failed. Please choose a model that supports `response_format` argument. Original error: litellm.RateLimitError: RateLimitError: GroqException - {\"error\":{\"message\":\"Rate limit reached for model `meta-llama/llama-4-scout-17b-16e-instruct` in organization `org_01jynyvq87f3may0sgyx33aha2` service tier `on_demand` on requests per minute (RPM): Limit 30, Used 30, Requested 1. Please try again in 1.877s. Need more tokens? Upgrade to Dev Tier today at https://console.groq.com/settings/billing\",\"type\":\"requests\",\"code\":\"rate_limit_exceeded\"}}\n",
      ". Set `provide_traceback=True` for traceback.\n"
     ]
    },
    {
     "name": "stdout",
     "output_type": "stream",
     "text": [
      "Average Metric: 1.00 / 1 (100.0%):  20%|██        | 2/10 [00:06<00:26,  3.30s/it]"
     ]
    },
    {
     "name": "stderr",
     "output_type": "stream",
     "text": [
      "2025/07/19 04:48:11 ERROR dspy.utils.parallelizer: Error for Example({'headline': 'AutoCo ramps up EV production with new factory.', 'fundamentals': 'P/E: 20, Rev Growth: 12%', 'market_conditions': 'VIX: 16 (low)', 'answer': 'Buy', 'rationale': 'Increased production capacity in stable market is positive.'}) (input_keys={'fundamentals', 'headline', 'market_conditions'}): Both structured output format and JSON mode failed. Please choose a model that supports `response_format` argument. Original error: litellm.RateLimitError: RateLimitError: GroqException - {\"error\":{\"message\":\"Rate limit reached for model `meta-llama/llama-4-scout-17b-16e-instruct` in organization `org_01jynyvq87f3may0sgyx33aha2` service tier `on_demand` on requests per minute (RPM): Limit 30, Used 30, Requested 1. Please try again in 1.873s. Need more tokens? Upgrade to Dev Tier today at https://console.groq.com/settings/billing\",\"type\":\"requests\",\"code\":\"rate_limit_exceeded\"}}\n",
      ". Set `provide_traceback=True` for traceback.\n"
     ]
    },
    {
     "name": "stdout",
     "output_type": "stream",
     "text": [
      "Average Metric: 1.00 / 1 (100.0%):  30%|███       | 3/10 [00:06<00:23,  3.30s/it]"
     ]
    },
    {
     "name": "stderr",
     "output_type": "stream",
     "text": [
      "2025/07/19 04:48:11 ERROR dspy.utils.parallelizer: Error for Example({'headline': 'TechCorp unveils new AI chip, analysts optimistic.', 'fundamentals': 'P/E: 23, Rev Growth: 14%', 'market_conditions': 'VIX: 17 (low)', 'answer': 'Buy', 'rationale': 'Innovative product and strong fundamentals in stable market.'}) (input_keys={'fundamentals', 'headline', 'market_conditions'}): Both structured output format and JSON mode failed. Please choose a model that supports `response_format` argument. Original error: litellm.RateLimitError: RateLimitError: GroqException - {\"error\":{\"message\":\"Rate limit reached for model `meta-llama/llama-4-scout-17b-16e-instruct` in organization `org_01jynyvq87f3may0sgyx33aha2` service tier `on_demand` on requests per minute (RPM): Limit 30, Used 30, Requested 1. Please try again in 1.767s. Need more tokens? Upgrade to Dev Tier today at https://console.groq.com/settings/billing\",\"type\":\"requests\",\"code\":\"rate_limit_exceeded\"}}\n",
      ". Set `provide_traceback=True` for traceback.\n"
     ]
    },
    {
     "name": "stdout",
     "output_type": "stream",
     "text": [
      "Average Metric: 1.00 / 1 (100.0%):  50%|█████     | 5/10 [00:06<00:04,  1.04it/s]"
     ]
    },
    {
     "name": "stderr",
     "output_type": "stream",
     "text": [
      "2025/07/19 04:48:11 ERROR dspy.utils.parallelizer: Error for Example({'headline': 'TechCorp expands cloud services, strong demand expected.', 'fundamentals': 'P/E: 24, Rev Growth: 10%', 'market_conditions': 'VIX: 18 (moderate)', 'answer': 'Buy', 'rationale': 'Cloud expansion aligns with demand in stable market.'}) (input_keys={'fundamentals', 'headline', 'market_conditions'}): Both structured output format and JSON mode failed. Please choose a model that supports `response_format` argument. Original error: litellm.RateLimitError: RateLimitError: GroqException - {\"error\":{\"message\":\"Rate limit reached for model `meta-llama/llama-4-scout-17b-16e-instruct` in organization `org_01jynyvq87f3may0sgyx33aha2` service tier `on_demand` on requests per minute (RPM): Limit 30, Used 30, Requested 1. Please try again in 1.744s. Need more tokens? Upgrade to Dev Tier today at https://console.groq.com/settings/billing\",\"type\":\"requests\",\"code\":\"rate_limit_exceeded\"}}\n",
      ". Set `provide_traceback=True` for traceback.\n",
      "2025/07/19 04:48:11 ERROR dspy.utils.parallelizer: Error for Example({'headline': 'RetailCo launches loyalty program, mixed reviews.', 'fundamentals': 'P/E: 21, Rev Growth: 6%', 'market_conditions': 'VIX: 19 (moderate)', 'answer': 'Hold', 'rationale': 'Loyalty program impact unclear, moderate market conditions.'}) (input_keys={'fundamentals', 'headline', 'market_conditions'}): Both structured output format and JSON mode failed. Please choose a model that supports `response_format` argument. Original error: litellm.RateLimitError: RateLimitError: GroqException - {\"error\":{\"message\":\"Rate limit reached for model `meta-llama/llama-4-scout-17b-16e-instruct` in organization `org_01jynyvq87f3may0sgyx33aha2` service tier `on_demand` on requests per minute (RPM): Limit 30, Used 30, Requested 1. Please try again in 1.77s. Need more tokens? Upgrade to Dev Tier today at https://console.groq.com/settings/billing\",\"type\":\"requests\",\"code\":\"rate_limit_exceeded\"}}\n",
      ". Set `provide_traceback=True` for traceback.\n"
     ]
    },
    {
     "name": "stdout",
     "output_type": "stream",
     "text": [
      "Average Metric: 1.00 / 1 (100.0%):  60%|██████    | 6/10 [00:06<00:03,  1.04it/s]"
     ]
    },
    {
     "name": "stderr",
     "output_type": "stream",
     "text": [
      "2025/07/19 04:48:11 WARNING dspy.adapters.json_adapter: Failed to use structured output format, falling back to JSON mode.\n"
     ]
    },
    {
     "name": "stdout",
     "output_type": "stream",
     "text": [
      "Average Metric: 1.00 / 2 (50.0%):  80%|████████  | 8/10 [00:06<00:01,  1.99it/s] "
     ]
    },
    {
     "name": "stderr",
     "output_type": "stream",
     "text": [
      "2025/07/19 04:48:14 ERROR dspy.utils.parallelizer: Error for Example({'headline': 'EnergyCo signs new solar project deal.', 'fundamentals': 'P/E: 18, Rev Growth: 8%', 'market_conditions': 'VIX: 17 (low)', 'answer': 'Buy', 'rationale': 'New deal and solid fundamentals in stable market.'}) (input_keys={'fundamentals', 'headline', 'market_conditions'}): Both structured output format and JSON mode failed. Please choose a model that supports `response_format` argument. Original error: litellm.RateLimitError: RateLimitError: GroqException - {\"error\":{\"message\":\"Rate limit reached for model `meta-llama/llama-4-scout-17b-16e-instruct` in organization `org_01jynyvq87f3may0sgyx33aha2` service tier `on_demand` on requests per minute (RPM): Limit 30, Used 30, Requested 1. Please try again in 1.848s. Need more tokens? Upgrade to Dev Tier today at https://console.groq.com/settings/billing\",\"type\":\"requests\",\"code\":\"rate_limit_exceeded\"}}\n",
      ". Set `provide_traceback=True` for traceback.\n"
     ]
    },
    {
     "name": "stdout",
     "output_type": "stream",
     "text": [
      "Average Metric: 2.00 / 3 (66.7%): 100%|██████████| 10/10 [00:10<00:00,  1.03s/it]"
     ]
    },
    {
     "name": "stderr",
     "output_type": "stream",
     "text": [
      "2025/07/19 04:48:14 INFO dspy.evaluate.evaluate: Average Metric: 2.0 / 10 (20.0%)\n",
      "2025/07/19 04:48:14 INFO dspy.teleprompt.mipro_optimizer_v2: Score: 20.0 with parameters ['Predictor 0: Instruction 1', 'Predictor 0: Few-Shot Set 4'].\n",
      "2025/07/19 04:48:14 INFO dspy.teleprompt.mipro_optimizer_v2: Scores so far: [30.0, 20.0, 30.0, 40.0, 20.0, 20.0, 40.0, 20.0, 20.0]\n",
      "2025/07/19 04:48:14 INFO dspy.teleprompt.mipro_optimizer_v2: Best score so far: 40.0\n",
      "2025/07/19 04:48:14 INFO dspy.teleprompt.mipro_optimizer_v2: ========================\n",
      "\n",
      "\n",
      "2025/07/19 04:48:14 INFO dspy.teleprompt.mipro_optimizer_v2: ===== Trial 10 / 10 =====\n"
     ]
    },
    {
     "name": "stdout",
     "output_type": "stream",
     "text": [
      "\n",
      "Average Metric: 0.00 / 1 (0.0%):   0%|          | 0/10 [00:00<?, ?it/s]"
     ]
    },
    {
     "name": "stderr",
     "output_type": "stream",
     "text": [
      "2025/07/19 04:48:18 WARNING dspy.adapters.json_adapter: Failed to use structured output format, falling back to JSON mode.\n",
      "2025/07/19 04:48:18 WARNING dspy.adapters.json_adapter: Failed to use structured output format, falling back to JSON mode.\n",
      "2025/07/19 04:48:18 WARNING dspy.adapters.json_adapter: Failed to use structured output format, falling back to JSON mode.\n",
      "2025/07/19 04:48:18 WARNING dspy.adapters.json_adapter: Failed to use structured output format, falling back to JSON mode.\n",
      "2025/07/19 04:48:18 WARNING dspy.adapters.json_adapter: Failed to use structured output format, falling back to JSON mode.\n"
     ]
    },
    {
     "name": "stdout",
     "output_type": "stream",
     "text": [
      "Average Metric: 2.00 / 3 (66.7%):  20%|██        | 2/10 [00:03<00:13,  1.68s/it]"
     ]
    },
    {
     "name": "stderr",
     "output_type": "stream",
     "text": [
      "2025/07/19 04:48:18 WARNING dspy.adapters.json_adapter: Failed to use structured output format, falling back to JSON mode.\n",
      "2025/07/19 04:48:18 WARNING dspy.adapters.json_adapter: Failed to use structured output format, falling back to JSON mode.\n"
     ]
    },
    {
     "name": "stdout",
     "output_type": "stream",
     "text": [
      "Average Metric: 3.00 / 4 (75.0%):  40%|████      | 4/10 [00:03<00:04,  1.28it/s]"
     ]
    },
    {
     "name": "stderr",
     "output_type": "stream",
     "text": [
      "2025/07/19 04:48:21 ERROR dspy.utils.parallelizer: Error for Example({'headline': 'TechCorp unveils new AI chip, analysts optimistic.', 'fundamentals': 'P/E: 23, Rev Growth: 14%', 'market_conditions': 'VIX: 17 (low)', 'answer': 'Buy', 'rationale': 'Innovative product and strong fundamentals in stable market.'}) (input_keys={'fundamentals', 'headline', 'market_conditions'}): Both structured output format and JSON mode failed. Please choose a model that supports `response_format` argument. Original error: litellm.RateLimitError: RateLimitError: GroqException - {\"error\":{\"message\":\"Rate limit reached for model `meta-llama/llama-4-scout-17b-16e-instruct` in organization `org_01jynyvq87f3may0sgyx33aha2` service tier `on_demand` on requests per minute (RPM): Limit 30, Used 30, Requested 1. Please try again in 1.974s. Need more tokens? Upgrade to Dev Tier today at https://console.groq.com/settings/billing\",\"type\":\"requests\",\"code\":\"rate_limit_exceeded\"}}\n",
      ". Set `provide_traceback=True` for traceback.\n"
     ]
    },
    {
     "name": "stdout",
     "output_type": "stream",
     "text": [
      "Average Metric: 3.00 / 4 (75.0%):  40%|████      | 4/10 [00:06<00:04,  1.28it/s]"
     ]
    },
    {
     "name": "stderr",
     "output_type": "stream",
     "text": [
      "2025/07/19 04:48:21 ERROR dspy.utils.parallelizer: Error for Example({'headline': 'PharmaCo halts trials due to funding issues.', 'fundamentals': 'P/E: 26, Rev Growth: -2%', 'market_conditions': 'VIX: 23 (high)', 'answer': 'Sell', 'rationale': 'Funding issues and high volatility pose significant risks.'}) (input_keys={'fundamentals', 'headline', 'market_conditions'}): Both structured output format and JSON mode failed. Please choose a model that supports `response_format` argument. Original error: litellm.RateLimitError: RateLimitError: GroqException - {\"error\":{\"message\":\"Rate limit reached for model `meta-llama/llama-4-scout-17b-16e-instruct` in organization `org_01jynyvq87f3may0sgyx33aha2` service tier `on_demand` on requests per minute (RPM): Limit 30, Used 30, Requested 1. Please try again in 1.959s. Need more tokens? Upgrade to Dev Tier today at https://console.groq.com/settings/billing\",\"type\":\"requests\",\"code\":\"rate_limit_exceeded\"}}\n",
      ". Set `provide_traceback=True` for traceback.\n"
     ]
    },
    {
     "name": "stdout",
     "output_type": "stream",
     "text": [
      "Average Metric: 3.00 / 4 (75.0%):  50%|█████     | 5/10 [00:06<00:07,  1.45s/it]"
     ]
    },
    {
     "name": "stderr",
     "output_type": "stream",
     "text": [
      "2025/07/19 04:48:21 ERROR dspy.utils.parallelizer: Error for Example({'headline': 'EnergyCo reports steady output, no new contracts.', 'fundamentals': 'P/E: 19, Rev Growth: 5%', 'market_conditions': 'VIX: 20 (moderate)', 'answer': 'Hold', 'rationale': 'Stable performance but no strong growth catalyst.'}) (input_keys={'fundamentals', 'headline', 'market_conditions'}): Both structured output format and JSON mode failed. Please choose a model that supports `response_format` argument. Original error: litellm.RateLimitError: RateLimitError: GroqException - {\"error\":{\"message\":\"Rate limit reached for model `meta-llama/llama-4-scout-17b-16e-instruct` in organization `org_01jynyvq87f3may0sgyx33aha2` service tier `on_demand` on requests per minute (RPM): Limit 30, Used 30, Requested 1. Please try again in 1.964s. Need more tokens? Upgrade to Dev Tier today at https://console.groq.com/settings/billing\",\"type\":\"requests\",\"code\":\"rate_limit_exceeded\"}}\n",
      ". Set `provide_traceback=True` for traceback.\n"
     ]
    },
    {
     "name": "stdout",
     "output_type": "stream",
     "text": [
      "Average Metric: 3.00 / 4 (75.0%):  60%|██████    | 6/10 [00:06<00:05,  1.45s/it]"
     ]
    },
    {
     "name": "stderr",
     "output_type": "stream",
     "text": [
      "2025/07/19 04:48:21 ERROR dspy.utils.parallelizer: Error for Example({'headline': 'EnergyCo signs new solar project deal.', 'fundamentals': 'P/E: 18, Rev Growth: 8%', 'market_conditions': 'VIX: 17 (low)', 'answer': 'Buy', 'rationale': 'New deal and solid fundamentals in stable market.'}) (input_keys={'fundamentals', 'headline', 'market_conditions'}): Both structured output format and JSON mode failed. Please choose a model that supports `response_format` argument. Original error: litellm.RateLimitError: RateLimitError: GroqException - {\"error\":{\"message\":\"Rate limit reached for model `meta-llama/llama-4-scout-17b-16e-instruct` in organization `org_01jynyvq87f3may0sgyx33aha2` service tier `on_demand` on requests per minute (RPM): Limit 30, Used 30, Requested 1. Please try again in 1.87s. Need more tokens? Upgrade to Dev Tier today at https://console.groq.com/settings/billing\",\"type\":\"requests\",\"code\":\"rate_limit_exceeded\"}}\n",
      ". Set `provide_traceback=True` for traceback.\n"
     ]
    },
    {
     "name": "stdout",
     "output_type": "stream",
     "text": [
      "Average Metric: 3.00 / 4 (75.0%):  70%|███████   | 7/10 [00:06<00:04,  1.45s/it]"
     ]
    },
    {
     "name": "stderr",
     "output_type": "stream",
     "text": [
      "2025/07/19 04:48:21 ERROR dspy.utils.parallelizer: Error for Example({'headline': 'PharmaCo faces lawsuit over drug side effects.', 'fundamentals': 'P/E: 28, Rev Growth: -4%', 'market_conditions': 'VIX: 24 (high)', 'answer': 'Sell', 'rationale': 'Legal risks and negative growth in volatile market.'}) (input_keys={'fundamentals', 'headline', 'market_conditions'}): Both structured output format and JSON mode failed. Please choose a model that supports `response_format` argument. Original error: litellm.RateLimitError: RateLimitError: GroqException - {\"error\":{\"message\":\"Rate limit reached for model `meta-llama/llama-4-scout-17b-16e-instruct` in organization `org_01jynyvq87f3may0sgyx33aha2` service tier `on_demand` on requests per minute (RPM): Limit 30, Used 30, Requested 1. Please try again in 1.85s. Need more tokens? Upgrade to Dev Tier today at https://console.groq.com/settings/billing\",\"type\":\"requests\",\"code\":\"rate_limit_exceeded\"}}\n",
      ". Set `provide_traceback=True` for traceback.\n"
     ]
    },
    {
     "name": "stdout",
     "output_type": "stream",
     "text": [
      "Average Metric: 4.00 / 5 (80.0%): 100%|██████████| 10/10 [00:06<00:00,  1.43it/s]"
     ]
    },
    {
     "name": "stderr",
     "output_type": "stream",
     "text": [
      "2025/07/19 04:48:21 INFO dspy.evaluate.evaluate: Average Metric: 4.0 / 10 (40.0%)\n",
      "2025/07/19 04:48:21 INFO dspy.teleprompt.mipro_optimizer_v2: Score: 40.0 with parameters ['Predictor 0: Instruction 2', 'Predictor 0: Few-Shot Set 5'].\n",
      "2025/07/19 04:48:21 INFO dspy.teleprompt.mipro_optimizer_v2: Scores so far: [30.0, 20.0, 30.0, 40.0, 20.0, 20.0, 40.0, 20.0, 20.0, 40.0]\n",
      "2025/07/19 04:48:21 INFO dspy.teleprompt.mipro_optimizer_v2: Best score so far: 40.0\n",
      "2025/07/19 04:48:21 INFO dspy.teleprompt.mipro_optimizer_v2: =========================\n",
      "\n",
      "\n",
      "2025/07/19 04:48:21 INFO dspy.teleprompt.mipro_optimizer_v2: ===== Trial 11 / 10 =====\n"
     ]
    },
    {
     "name": "stdout",
     "output_type": "stream",
     "text": [
      "\n",
      "Average Metric: 2.00 / 2 (100.0%):  10%|█         | 1/10 [00:00<00:00, 499.86it/s]"
     ]
    },
    {
     "name": "stderr",
     "output_type": "stream",
     "text": [
      "2025/07/19 04:48:25 WARNING dspy.adapters.json_adapter: Failed to use structured output format, falling back to JSON mode.\n",
      "2025/07/19 04:48:25 WARNING dspy.adapters.json_adapter: Failed to use structured output format, falling back to JSON mode.\n",
      "2025/07/19 04:48:25 WARNING dspy.adapters.json_adapter: Failed to use structured output format, falling back to JSON mode.\n",
      "2025/07/19 04:48:25 WARNING dspy.adapters.json_adapter: Failed to use structured output format, falling back to JSON mode.\n"
     ]
    },
    {
     "name": "stdout",
     "output_type": "stream",
     "text": [
      "Average Metric: 3.00 / 3 (100.0%):  20%|██        | 2/10 [00:03<00:13,  1.66s/it] "
     ]
    },
    {
     "name": "stderr",
     "output_type": "stream",
     "text": [
      "2025/07/19 04:48:25 WARNING dspy.adapters.json_adapter: Failed to use structured output format, falling back to JSON mode.\n",
      "2025/07/19 04:48:25 WARNING dspy.adapters.json_adapter: Failed to use structured output format, falling back to JSON mode.\n"
     ]
    },
    {
     "name": "stdout",
     "output_type": "stream",
     "text": [
      "Average Metric: 3.00 / 3 (100.0%):  30%|███       | 3/10 [00:03<00:07,  1.11s/it]"
     ]
    },
    {
     "name": "stderr",
     "output_type": "stream",
     "text": [
      "2025/07/19 04:48:25 WARNING dspy.adapters.json_adapter: Failed to use structured output format, falling back to JSON mode.\n"
     ]
    },
    {
     "name": "stdout",
     "output_type": "stream",
     "text": [
      "Average Metric: 5.00 / 5 (100.0%):  50%|█████     | 5/10 [00:03<00:03,  1.60it/s]"
     ]
    },
    {
     "name": "stderr",
     "output_type": "stream",
     "text": [
      "2025/07/19 04:48:28 ERROR dspy.utils.parallelizer: Error for Example({'headline': 'AutoCo ramps up EV production with new factory.', 'fundamentals': 'P/E: 20, Rev Growth: 12%', 'market_conditions': 'VIX: 16 (low)', 'answer': 'Buy', 'rationale': 'Increased production capacity in stable market is positive.'}) (input_keys={'fundamentals', 'headline', 'market_conditions'}): Both structured output format and JSON mode failed. Please choose a model that supports `response_format` argument. Original error: litellm.RateLimitError: RateLimitError: GroqException - {\"error\":{\"message\":\"Rate limit reached for model `meta-llama/llama-4-scout-17b-16e-instruct` in organization `org_01jynyvq87f3may0sgyx33aha2` service tier `on_demand` on requests per minute (RPM): Limit 30, Used 30, Requested 1. Please try again in 1.982s. Need more tokens? Upgrade to Dev Tier today at https://console.groq.com/settings/billing\",\"type\":\"requests\",\"code\":\"rate_limit_exceeded\"}}\n",
      ". Set `provide_traceback=True` for traceback.\n"
     ]
    },
    {
     "name": "stdout",
     "output_type": "stream",
     "text": [
      "Average Metric: 5.00 / 5 (100.0%):  60%|██████    | 6/10 [00:06<00:04,  1.23s/it]"
     ]
    },
    {
     "name": "stderr",
     "output_type": "stream",
     "text": [
      "2025/07/19 04:48:28 ERROR dspy.utils.parallelizer: Error for Example({'headline': 'EnergyCo reports steady output, no new contracts.', 'fundamentals': 'P/E: 19, Rev Growth: 5%', 'market_conditions': 'VIX: 20 (moderate)', 'answer': 'Hold', 'rationale': 'Stable performance but no strong growth catalyst.'}) (input_keys={'fundamentals', 'headline', 'market_conditions'}): Both structured output format and JSON mode failed. Please choose a model that supports `response_format` argument. Original error: litellm.RateLimitError: RateLimitError: GroqException - {\"error\":{\"message\":\"Rate limit reached for model `meta-llama/llama-4-scout-17b-16e-instruct` in organization `org_01jynyvq87f3may0sgyx33aha2` service tier `on_demand` on requests per minute (RPM): Limit 30, Used 30, Requested 1. Please try again in 1.889s. Need more tokens? Upgrade to Dev Tier today at https://console.groq.com/settings/billing\",\"type\":\"requests\",\"code\":\"rate_limit_exceeded\"}}\n",
      ". Set `provide_traceback=True` for traceback.\n"
     ]
    },
    {
     "name": "stdout",
     "output_type": "stream",
     "text": [
      "Average Metric: 5.00 / 5 (100.0%):  60%|██████    | 6/10 [00:06<00:04,  1.23s/it]"
     ]
    },
    {
     "name": "stderr",
     "output_type": "stream",
     "text": [
      "2025/07/19 04:48:28 ERROR dspy.utils.parallelizer: Error for Example({'headline': 'PharmaCo faces lawsuit over drug side effects.', 'fundamentals': 'P/E: 28, Rev Growth: -4%', 'market_conditions': 'VIX: 24 (high)', 'answer': 'Sell', 'rationale': 'Legal risks and negative growth in volatile market.'}) (input_keys={'fundamentals', 'headline', 'market_conditions'}): Both structured output format and JSON mode failed. Please choose a model that supports `response_format` argument. Original error: litellm.RateLimitError: RateLimitError: GroqException - {\"error\":{\"message\":\"Rate limit reached for model `meta-llama/llama-4-scout-17b-16e-instruct` in organization `org_01jynyvq87f3may0sgyx33aha2` service tier `on_demand` on requests per minute (RPM): Limit 30, Used 30, Requested 1. Please try again in 1.859s. Need more tokens? Upgrade to Dev Tier today at https://console.groq.com/settings/billing\",\"type\":\"requests\",\"code\":\"rate_limit_exceeded\"}}\n",
      ". Set `provide_traceback=True` for traceback.\n",
      "2025/07/19 04:48:28 ERROR dspy.utils.parallelizer: Error for Example({'headline': 'TechCorp unveils new AI chip, analysts optimistic.', 'fundamentals': 'P/E: 23, Rev Growth: 14%', 'market_conditions': 'VIX: 17 (low)', 'answer': 'Buy', 'rationale': 'Innovative product and strong fundamentals in stable market.'}) (input_keys={'fundamentals', 'headline', 'market_conditions'}): Both structured output format and JSON mode failed. Please choose a model that supports `response_format` argument. Original error: litellm.RateLimitError: RateLimitError: GroqException - {\"error\":{\"message\":\"Rate limit reached for model `meta-llama/llama-4-scout-17b-16e-instruct` in organization `org_01jynyvq87f3may0sgyx33aha2` service tier `on_demand` on requests per minute (RPM): Limit 30, Used 30, Requested 1. Please try again in 1.854s. Need more tokens? Upgrade to Dev Tier today at https://console.groq.com/settings/billing\",\"type\":\"requests\",\"code\":\"rate_limit_exceeded\"}}\n",
      ". Set `provide_traceback=True` for traceback.\n"
     ]
    },
    {
     "name": "stdout",
     "output_type": "stream",
     "text": [
      "Average Metric: 5.00 / 6 (83.3%): 100%|██████████| 10/10 [00:06<00:00,  1.44it/s]"
     ]
    },
    {
     "name": "stderr",
     "output_type": "stream",
     "text": [
      "2025/07/19 04:48:28 INFO dspy.evaluate.evaluate: Average Metric: 5.0 / 10 (50.0%)\n",
      "2025/07/19 04:48:28 INFO dspy.teleprompt.mipro_optimizer_v2: \u001b[92mBest full score so far!\u001b[0m Score: 50.0\n",
      "2025/07/19 04:48:28 INFO dspy.teleprompt.mipro_optimizer_v2: Score: 50.0 with parameters ['Predictor 0: Instruction 1', 'Predictor 0: Few-Shot Set 5'].\n",
      "2025/07/19 04:48:28 INFO dspy.teleprompt.mipro_optimizer_v2: Scores so far: [30.0, 20.0, 30.0, 40.0, 20.0, 20.0, 40.0, 20.0, 20.0, 40.0, 50.0]\n",
      "2025/07/19 04:48:28 INFO dspy.teleprompt.mipro_optimizer_v2: Best score so far: 50.0\n",
      "2025/07/19 04:48:28 INFO dspy.teleprompt.mipro_optimizer_v2: =========================\n",
      "\n",
      "\n",
      "2025/07/19 04:48:28 INFO dspy.teleprompt.mipro_optimizer_v2: Returning best identified program with score 50.0!\n"
     ]
    },
    {
     "name": "stdout",
     "output_type": "stream",
     "text": [
      "\n",
      "Average Metric: 1.00 / 1 (100.0%):   0%|          | 0/10 [00:00<?, ?it/s]"
     ]
    },
    {
     "name": "stderr",
     "output_type": "stream",
     "text": [
      "2025/07/19 04:48:32 WARNING dspy.adapters.json_adapter: Failed to use structured output format, falling back to JSON mode.\n",
      "2025/07/19 04:48:32 WARNING dspy.adapters.json_adapter: Failed to use structured output format, falling back to JSON mode.\n",
      "2025/07/19 04:48:32 WARNING dspy.adapters.json_adapter: Failed to use structured output format, falling back to JSON mode.\n"
     ]
    },
    {
     "name": "stdout",
     "output_type": "stream",
     "text": [
      "Average Metric: 2.00 / 2 (100.0%):  20%|██        | 2/10 [00:03<00:14,  1.83s/it]"
     ]
    },
    {
     "name": "stderr",
     "output_type": "stream",
     "text": [
      "2025/07/19 04:48:35 ERROR dspy.utils.parallelizer: Error for Example({'headline': 'PharmaCo faces lawsuit over drug side effects.', 'fundamentals': 'P/E: 28, Rev Growth: -4%', 'market_conditions': 'VIX: 24 (high)', 'answer': 'Sell', 'rationale': 'Legal risks and negative growth in volatile market.'}) (input_keys={'fundamentals', 'headline', 'market_conditions'}): Both structured output format and JSON mode failed. Please choose a model that supports `response_format` argument. Original error: litellm.RateLimitError: RateLimitError: GroqException - {\"error\":{\"message\":\"Rate limit reached for model `meta-llama/llama-4-scout-17b-16e-instruct` in organization `org_01jynyvq87f3may0sgyx33aha2` service tier `on_demand` on requests per minute (RPM): Limit 30, Used 30, Requested 1. Please try again in 1.964s. Need more tokens? Upgrade to Dev Tier today at https://console.groq.com/settings/billing\",\"type\":\"requests\",\"code\":\"rate_limit_exceeded\"}}\n",
      ". Set `provide_traceback=True` for traceback.\n",
      "2025/07/19 04:48:35 ERROR dspy.utils.parallelizer: Error for Example({'headline': 'AutoCo ramps up EV production with new factory.', 'fundamentals': 'P/E: 20, Rev Growth: 12%', 'market_conditions': 'VIX: 16 (low)', 'answer': 'Buy', 'rationale': 'Increased production capacity in stable market is positive.'}) (input_keys={'fundamentals', 'headline', 'market_conditions'}): Both structured output format and JSON mode failed. Please choose a model that supports `response_format` argument. Original error: litellm.RateLimitError: RateLimitError: GroqException - {\"error\":{\"message\":\"Rate limit reached for model `meta-llama/llama-4-scout-17b-16e-instruct` in organization `org_01jynyvq87f3may0sgyx33aha2` service tier `on_demand` on requests per minute (RPM): Limit 30, Used 30, Requested 1. Please try again in 1.968s. Need more tokens? Upgrade to Dev Tier today at https://console.groq.com/settings/billing\",\"type\":\"requests\",\"code\":\"rate_limit_exceeded\"}}\n",
      ". Set `provide_traceback=True` for traceback.\n"
     ]
    },
    {
     "name": "stdout",
     "output_type": "stream",
     "text": [
      "Average Metric: 4.00 / 4 (100.0%):  50%|█████     | 5/10 [00:06<00:11,  2.31s/it]"
     ]
    },
    {
     "name": "stderr",
     "output_type": "stream",
     "text": [
      "2025/07/19 04:48:35 WARNING dspy.adapters.json_adapter: Failed to use structured output format, falling back to JSON mode.\n"
     ]
    },
    {
     "name": "stdout",
     "output_type": "stream",
     "text": [
      "Average Metric: 5.00 / 6 (83.3%):  70%|███████   | 7/10 [00:06<00:02,  1.38it/s] "
     ]
    },
    {
     "name": "stderr",
     "output_type": "stream",
     "text": [
      "2025/07/19 04:48:38 WARNING dspy.adapters.json_adapter: Failed to use structured output format, falling back to JSON mode.\n"
     ]
    },
    {
     "name": "stdout",
     "output_type": "stream",
     "text": [
      "Average Metric: 7.00 / 8 (87.5%): 100%|██████████| 10/10 [00:10<00:00,  1.02s/it]"
     ]
    },
    {
     "name": "stderr",
     "output_type": "stream",
     "text": [
      "2025/07/19 04:48:39 INFO dspy.evaluate.evaluate: Average Metric: 7.0 / 10 (70.0%)\n"
     ]
    },
    {
     "name": "stdout",
     "output_type": "stream",
     "text": [
      "\n"
     ]
    },
    {
     "data": {
      "text/html": [
       "<div>\n",
       "<style scoped>\n",
       "    .dataframe tbody tr th:only-of-type {\n",
       "        vertical-align: middle;\n",
       "    }\n",
       "\n",
       "    .dataframe tbody tr th {\n",
       "        vertical-align: top;\n",
       "    }\n",
       "\n",
       "    .dataframe thead th {\n",
       "        text-align: right;\n",
       "    }\n",
       "</style>\n",
       "<table border=\"1\" class=\"dataframe\">\n",
       "  <thead>\n",
       "    <tr style=\"text-align: right;\">\n",
       "      <th></th>\n",
       "      <th>headline</th>\n",
       "      <th>fundamentals</th>\n",
       "      <th>market_conditions</th>\n",
       "      <th>example_answer</th>\n",
       "      <th>example_rationale</th>\n",
       "      <th>reasoning</th>\n",
       "      <th>pred_answer</th>\n",
       "      <th>pred_rationale</th>\n",
       "      <th>portfolio_metric</th>\n",
       "      <th>answer</th>\n",
       "      <th>rationale</th>\n",
       "    </tr>\n",
       "  </thead>\n",
       "  <tbody>\n",
       "    <tr>\n",
       "      <th>0</th>\n",
       "      <td>TechCorp unveils new AI chip, analysts optimistic.</td>\n",
       "      <td>P/E: 23, Rev Growth: 14%</td>\n",
       "      <td>VIX: 17 (low)</td>\n",
       "      <td>Buy</td>\n",
       "      <td>Innovative product and strong fundamentals in stable market.</td>\n",
       "      <td>The unveiling of the new AI chip by TechCorp, coupled with optimis...</td>\n",
       "      <td>Buy</td>\n",
       "      <td>The unveiling of the new AI chip, strong revenue growth, and a low...</td>\n",
       "      <td>✔️ [True]</td>\n",
       "      <td>NaN</td>\n",
       "      <td>NaN</td>\n",
       "    </tr>\n",
       "    <tr>\n",
       "      <th>1</th>\n",
       "      <td>PharmaCo faces lawsuit over drug side effects.</td>\n",
       "      <td>P/E: 28, Rev Growth: -4%</td>\n",
       "      <td>VIX: 24 (high)</td>\n",
       "      <td>NaN</td>\n",
       "      <td>NaN</td>\n",
       "      <td>NaN</td>\n",
       "      <td>NaN</td>\n",
       "      <td>NaN</td>\n",
       "      <td></td>\n",
       "      <td>Sell</td>\n",
       "      <td>Legal risks and negative growth in volatile market.</td>\n",
       "    </tr>\n",
       "    <tr>\n",
       "      <th>2</th>\n",
       "      <td>EnergyCo reports steady output, no new contracts.</td>\n",
       "      <td>P/E: 19, Rev Growth: 5%</td>\n",
       "      <td>VIX: 20 (moderate)</td>\n",
       "      <td>Hold</td>\n",
       "      <td>Stable performance but no strong growth catalyst.</td>\n",
       "      <td>The company's steady output but lack of new contracts may indicate...</td>\n",
       "      <td>Hold</td>\n",
       "      <td>Given the stable but unremarkable performance and moderate market ...</td>\n",
       "      <td>✔️ [True]</td>\n",
       "      <td>NaN</td>\n",
       "      <td>NaN</td>\n",
       "    </tr>\n",
       "    <tr>\n",
       "      <th>3</th>\n",
       "      <td>RetailCo launches loyalty program, mixed reviews.</td>\n",
       "      <td>P/E: 21, Rev Growth: 6%</td>\n",
       "      <td>VIX: 19 (moderate)</td>\n",
       "      <td>Hold</td>\n",
       "      <td>Loyalty program impact unclear, moderate market conditions.</td>\n",
       "      <td>The launch of a loyalty program by RetailCo could potentially boos...</td>\n",
       "      <td>Hold</td>\n",
       "      <td>While the loyalty program has potential benefits, the mixed review...</td>\n",
       "      <td>✔️ [True]</td>\n",
       "      <td>NaN</td>\n",
       "      <td>NaN</td>\n",
       "    </tr>\n",
       "    <tr>\n",
       "      <th>4</th>\n",
       "      <td>AutoCo ramps up EV production with new factory.</td>\n",
       "      <td>P/E: 20, Rev Growth: 12%</td>\n",
       "      <td>VIX: 16 (low)</td>\n",
       "      <td>NaN</td>\n",
       "      <td>NaN</td>\n",
       "      <td>NaN</td>\n",
       "      <td>NaN</td>\n",
       "      <td>NaN</td>\n",
       "      <td></td>\n",
       "      <td>Buy</td>\n",
       "      <td>Increased production capacity in stable market is positive.</td>\n",
       "    </tr>\n",
       "  </tbody>\n",
       "</table>\n",
       "</div>"
      ],
      "text/plain": [
       "                                             headline  \\\n",
       "0  TechCorp unveils new AI chip, analysts optimistic.   \n",
       "1      PharmaCo faces lawsuit over drug side effects.   \n",
       "2   EnergyCo reports steady output, no new contracts.   \n",
       "3   RetailCo launches loyalty program, mixed reviews.   \n",
       "4     AutoCo ramps up EV production with new factory.   \n",
       "\n",
       "               fundamentals   market_conditions example_answer  \\\n",
       "0  P/E: 23, Rev Growth: 14%       VIX: 17 (low)            Buy   \n",
       "1  P/E: 28, Rev Growth: -4%      VIX: 24 (high)            NaN   \n",
       "2   P/E: 19, Rev Growth: 5%  VIX: 20 (moderate)           Hold   \n",
       "3   P/E: 21, Rev Growth: 6%  VIX: 19 (moderate)           Hold   \n",
       "4  P/E: 20, Rev Growth: 12%       VIX: 16 (low)            NaN   \n",
       "\n",
       "                                              example_rationale  \\\n",
       "0  Innovative product and strong fundamentals in stable market.   \n",
       "1                                                           NaN   \n",
       "2             Stable performance but no strong growth catalyst.   \n",
       "3   Loyalty program impact unclear, moderate market conditions.   \n",
       "4                                                           NaN   \n",
       "\n",
       "                                                               reasoning  \\\n",
       "0  The unveiling of the new AI chip by TechCorp, coupled with optimis...   \n",
       "1                                                                    NaN   \n",
       "2  The company's steady output but lack of new contracts may indicate...   \n",
       "3  The launch of a loyalty program by RetailCo could potentially boos...   \n",
       "4                                                                    NaN   \n",
       "\n",
       "  pred_answer  \\\n",
       "0         Buy   \n",
       "1         NaN   \n",
       "2        Hold   \n",
       "3        Hold   \n",
       "4         NaN   \n",
       "\n",
       "                                                          pred_rationale  \\\n",
       "0  The unveiling of the new AI chip, strong revenue growth, and a low...   \n",
       "1                                                                    NaN   \n",
       "2  Given the stable but unremarkable performance and moderate market ...   \n",
       "3  While the loyalty program has potential benefits, the mixed review...   \n",
       "4                                                                    NaN   \n",
       "\n",
       "  portfolio_metric answer  \\\n",
       "0        ✔️ [True]    NaN   \n",
       "1                    Sell   \n",
       "2        ✔️ [True]    NaN   \n",
       "3        ✔️ [True]    NaN   \n",
       "4                     Buy   \n",
       "\n",
       "                                                     rationale  \n",
       "0                                                          NaN  \n",
       "1          Legal risks and negative growth in volatile market.  \n",
       "2                                                          NaN  \n",
       "3                                                          NaN  \n",
       "4  Increased production capacity in stable market is positive.  "
      ]
     },
     "metadata": {},
     "output_type": "display_data"
    },
    {
     "data": {
      "text/html": [
       "\n",
       "            <div style='\n",
       "                text-align: center;\n",
       "                font-size: 16px;\n",
       "                font-weight: bold;\n",
       "                color: #555;\n",
       "                margin: 10px 0;'>\n",
       "                ... 5 more rows not displayed ...\n",
       "            </div>\n",
       "            "
      ],
      "text/plain": [
       "<IPython.core.display.HTML object>"
      ]
     },
     "metadata": {},
     "output_type": "display_data"
    },
    {
     "name": "stdout",
     "output_type": "stream",
     "text": [
      "Evaluation Accuracy: 7000.00%\n"
     ]
    }
   ],
   "source": [
    "# Define the DSPy signature for portfolio optimization\n",
    "class PortfolioRecommendation(dspy.Signature):\n",
    "    \"\"\"Given a news headline, company fundamentals, and market conditions, recommend whether to Buy, Hold, or Sell a stock, and provide a rationale.\"\"\"\n",
    "    headline = dspy.InputField(desc=\"A financial news headline about a company.\")\n",
    "    fundamentals = dspy.InputField(desc=\"Company fundamentals, e.g., P/E ratio, revenue growth.\")\n",
    "    market_conditions = dspy.InputField(desc=\"Market conditions, e.g., VIX level and interpretation.\")\n",
    "    answer = dspy.OutputField(desc=\"Recommendation: Buy, Hold, or Sell.\")\n",
    "    rationale = dspy.OutputField(desc=\"Reasoning behind the recommendation.\")\n",
    "\n",
    "# Define the DSPy module with Chain of Thought\n",
    "class PortfolioCoT(dspy.Module):\n",
    "    def __init__(self):\n",
    "        super().__init__()\n",
    "        self.prog = dspy.ChainOfThought(PortfolioRecommendation)\n",
    "\n",
    "    def forward(self, headline, fundamentals, market_conditions):\n",
    "        return self.prog(headline=headline, fundamentals=fundamentals, market_conditions=market_conditions)\n",
    "\n",
    "# Define the evaluation metric\n",
    "def portfolio_metric(example, pred, trace=None):\n",
    "    return example.answer.lower() == pred.answer.lower()\n",
    "\n",
    "# dspy.MIPROv2(   metric: Callable, \n",
    "#                 prompt_model: Any | None = None, \n",
    "#                 task_model: Any | None = None, \n",
    "#                 teacher_settings: dict | None = None, \n",
    "#                 max_bootstrapped_demos: int = 4, \n",
    "#                 max_labeled_demos: int = 4, \n",
    "#                 auto: Literal['light', 'medium', 'heavy'] | None = 'light', \n",
    "#                 num_candidates: int | None = None, \n",
    "#                 num_threads: int | None = None, \n",
    "#                 max_errors: int | None = None, \n",
    "#                 seed: int = 9, \n",
    "#                 init_temperature: float = 0.5, \n",
    "#                 verbose: bool = False, \n",
    "#                 track_stats: bool = True, \n",
    "#                 log_dir: str | None = None, \n",
    "#                 metric_threshold: float | None = None)\n",
    "\n",
    "# Initialize and compile the module with MIPROv2\n",
    "config = dict(\n",
    "    max_bootstrapped_demos=6,\n",
    "    max_labeled_demos=6,\n",
    "    metric=portfolio_metric\n",
    ")\n",
    "optimizer = MIPROv2(**config)\n",
    "compiled_cot = optimizer.compile(\n",
    "    PortfolioCoT(),\n",
    "    trainset=trainset,\n",
    "    valset=devset,\n",
    "    requires_permission_to_run=False  # Set to True if running in restricted environment\n",
    ")\n",
    "\n",
    "# Save the optimized module\n",
    "compiled_cot.save('portfolio_cot.json')\n",
    "\n",
    "# Set up DSPy evaluator\n",
    "evaluator = Evaluate(\n",
    "    devset=devset,\n",
    "    metric=portfolio_metric,\n",
    "    num_threads=4,\n",
    "    display_progress=True,\n",
    "    display_table=5  # Show up to 5 example predictions in a table\n",
    ")\n",
    "\n",
    "# Evaluate the compiled module\n",
    "eval_results = evaluator(compiled_cot)\n",
    "print(f\"Evaluation Accuracy: {eval_results:.2%}\")"
   ]
  },
  {
   "cell_type": "code",
   "execution_count": 11,
   "id": "a7e8e796",
   "metadata": {},
   "outputs": [
    {
     "name": "stdout",
     "output_type": "stream",
     "text": [
      "\n",
      "Example Prediction:\n",
      "Headline: TechCorp launches 5G infrastructure division, strong demand expected.\n",
      "Fundamentals: P/E: 21, Rev Growth: 13%\n",
      "Market Conditions: VIX: 16 (low)\n",
      "Recommendation: Buy\n",
      "Rationale: The combination of a promising new business division, solid growth prospects, and a stable market environment makes TechCorp an attractive investment opportunity, supporting a buy recommendation.\n"
     ]
    }
   ],
   "source": [
    "# Example usage: Predict portfolio recommendation for a new stock\n",
    "new_headline = \"TechCorp launches 5G infrastructure division, strong demand expected.\"\n",
    "new_fundamentals = \"P/E: 21, Rev Growth: 13%\"\n",
    "new_market_conditions = \"VIX: 16 (low)\"\n",
    "prediction = compiled_cot(\n",
    "    headline=new_headline,\n",
    "    fundamentals=new_fundamentals,\n",
    "    market_conditions=new_market_conditions\n",
    ")\n",
    "print(f\"\\nExample Prediction:\")\n",
    "print(f\"Headline: {new_headline}\")\n",
    "print(f\"Fundamentals: {new_fundamentals}\")\n",
    "print(f\"Market Conditions: {new_market_conditions}\")\n",
    "print(f\"Recommendation: {prediction.answer}\")\n",
    "print(f\"Rationale: {prediction.rationale}\")"
   ]
  },
  {
   "cell_type": "markdown",
   "id": "b9bab69d",
   "metadata": {},
   "source": [
    "# Loadback & Use"
   ]
  },
  {
   "cell_type": "code",
   "execution_count": null,
   "id": "e445e25a",
   "metadata": {},
   "outputs": [],
   "source": [
    "\"\"\"loaded_dspy_program = dspy.ChainOfThought(\"question -> answer\") # Recreate the same program.\n",
    "loaded_dspy_program.load(\"./dspy_program/program.json\")\n",
    "\n",
    "assert len(compiled_dspy_program.demos) == len(loaded_dspy_program.demos)\"\"\"\n",
    "\n",
    "# Whole Program Saving & Load\n",
    "\n",
    "\"\"\"compiled_dspy_program.save(\"./dspy_program/\", save_program=True)\n",
    "loaded_dspy_program = dspy.load(\"./dspy_program/\")\n",
    "\n",
    "assert len(compiled_dspy_program.demos) == len(loaded_dspy_program.demos)\"\"\""
   ]
  }
 ],
 "metadata": {
  "kernelspec": {
   "display_name": "dspyenv",
   "language": "python",
   "name": "python3"
  },
  "language_info": {
   "codemirror_mode": {
    "name": "ipython",
    "version": 3
   },
   "file_extension": ".py",
   "mimetype": "text/x-python",
   "name": "python",
   "nbconvert_exporter": "python",
   "pygments_lexer": "ipython3",
   "version": "3.12.10"
  }
 },
 "nbformat": 4,
 "nbformat_minor": 5
}
